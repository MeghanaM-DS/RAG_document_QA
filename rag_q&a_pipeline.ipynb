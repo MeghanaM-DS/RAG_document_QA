{
 "cells": [
  {
   "cell_type": "code",
   "execution_count": null,
   "metadata": {
    "colab": {
     "base_uri": "https://localhost:8080/"
    },
    "id": "1hGS71zhffZK",
    "outputId": "37e6c9d3-7968-447d-bab2-3177685e1053"
   },
   "outputs": [],
   "source": [
    "#Import all required libraries\n",
    "!pip install PyPDF2\n",
    "!pip install nltk\n",
    "!pip install faiss-cpu\n",
    "!pip install rouge_score\n",
    "!pip install bert-score\n",
    "from PyPDF2 import PdfReader\n",
    "import os\n",
    "import nltk\n",
    "from nltk.tokenize import sent_tokenize\n",
    "nltk.download('punkt')\n",
    "from sentence_transformers import SentenceTransformer, util\n",
    "import faiss\n",
    "import numpy as np\n",
    "import pandas as pd\n",
    "import re\n",
    "from transformers import pipeline\n",
    "from rouge_score import rouge_scorer\n",
    "from bert_score import BERTScorer\n",
    "import csv"
   ]
  },
  {
   "cell_type": "code",
   "execution_count": null,
   "metadata": {
    "colab": {
     "base_uri": "https://localhost:8080/"
    },
    "id": "pHhZyTMWABAv",
    "outputId": "6328eba2-5a48-42ec-bb02-2113404a3e13"
   },
   "outputs": [
    {
     "name": "stdout",
     "output_type": "stream",
     "text": [
      "Number of PDFs:4\n"
     ]
    }
   ],
   "source": [
    "def extract_text_from_pdfs(path):\n",
    "    \"\"\"\n",
    "    Objective: Read all pdf files in the folder\n",
    "    Input: Path of the folder\n",
    "    Output: text from all the pdf files (type: list of dictionaries) \"\"\"\n",
    "    text_data = []\n",
    "    for file in os.listdir(path):\n",
    "        if file.endswith(\".pdf\"):\n",
    "            pdf_path = os.path.join(path, file)\n",
    "            reader = PdfReader(pdf_path)\n",
    "            text = \"\".join([page.extract_text() for page in reader.pages])\n",
    "            text_data.append({\"filename\": file, \"text\": text})\n",
    "    return text_data\n",
    "\n",
    "pdf_text_data = extract_text_from_pdfs(\"data\")\n",
    "print(f\"Number of PDFs:{len(pdf_text_data)}\")\n"
   ]
  },
  {
   "cell_type": "code",
   "execution_count": 41,
   "metadata": {
    "colab": {
     "base_uri": "https://localhost:8080/"
    },
    "id": "XVZ5kT8lAjqq",
    "outputId": "8203f866-6be2-4b47-bdd2-95bf63fc24c4"
   },
   "outputs": [
    {
     "name": "stdout",
     "output_type": "stream",
     "text": [
      "Number of chunks:1454\n"
     ]
    }
   ],
   "source": [
    "def chunk_text(text_data, max_length=200):\n",
    "    \"\"\"\n",
    "    Objective: To turn the text data from each document into chunks.\n",
    "    input: text_data (list of documents), max_length -> maximum length of our chunks.\n",
    "    output: text chunks (type:list of dictionaries)\"\"\"\n",
    "\n",
    "    chunks = []\n",
    "    for doc in text_data:\n",
    "        sentences = sent_tokenize(doc[\"text\"])\n",
    "        chunk = \"\"\n",
    "        for sentence in sentences:\n",
    "            if len(chunk) + len(sentence) >= max_length:\n",
    "                chunks.append({\"filename\": doc[\"filename\"], \"text\": chunk})\n",
    "                chunk = \"\"\n",
    "            chunk += sentence + \". \"\n",
    "        chunks.append({\"filename\": doc[\"filename\"], \"text\": chunk})\n",
    "    return chunks\n",
    "\n",
    "chunked_data = chunk_text(pdf_text_data)\n",
    "print(f\"Number of chunks:{len(chunked_data)}\")\n"
   ]
  },
  {
   "cell_type": "code",
   "execution_count": 42,
   "metadata": {
    "colab": {
     "base_uri": "https://localhost:8080/"
    },
    "id": "R6ktmfd7A_tn",
    "outputId": "5f084972-a07f-45c9-9720-7291610ebcc2"
   },
   "outputs": [
    {
     "name": "stderr",
     "output_type": "stream",
     "text": [
      "/usr/local/lib/python3.10/dist-packages/transformers/tokenization_utils_base.py:1601: FutureWarning: `clean_up_tokenization_spaces` was not set. It will be set to `True` by default. This behavior will be depracted in transformers v4.45, and will be then set to `False` by default. For more details check this issue: https://github.com/huggingface/transformers/issues/31884\n",
      "  warnings.warn(\n"
     ]
    },
    {
     "name": "stdout",
     "output_type": "stream",
     "text": [
      "Number of embeddings:1454\n"
     ]
    }
   ],
   "source": [
    "# Initialize an embedding model\n",
    "model = SentenceTransformer('all-MiniLM-L6-v2')\n",
    "\n",
    "def get_embeddings(chunked_data):\n",
    "    \"\"\"\n",
    "    Objective: Turn each chunk into embeddings (vectors)\n",
    "    Input: Chunked text data\n",
    "    Output: Embdeddings for each chunk (type: list of dictionaries)\"\"\"\n",
    "    embeddings = []\n",
    "    for chunk in chunked_data:\n",
    "        embedding = model.encode(chunk[\"text\"])\n",
    "        embeddings.append({\n",
    "            \"filename\": chunk[\"filename\"],\n",
    "            \"text\": chunk[\"text\"],\n",
    "            \"embedding\": embedding\n",
    "        })\n",
    "    return embeddings\n",
    "\n",
    "embeddings = get_embeddings(chunked_data)\n",
    "print(f\"Number of embeddings:{len(embeddings)}\")"
   ]
  },
  {
   "cell_type": "code",
   "execution_count": 43,
   "metadata": {
    "colab": {
     "base_uri": "https://localhost:8080/"
    },
    "id": "pEuEC2fyBSX3",
    "outputId": "12942410-cb1e-4068-b44e-e5beb3491ee5"
   },
   "outputs": [
    {
     "name": "stdout",
     "output_type": "stream",
     "text": [
      "Number of vectors in index:1454\n"
     ]
    }
   ],
   "source": [
    "# Adding index for each embedding for fast retrieval\n",
    "\n",
    "# Initialize FAISS index\n",
    "dimension = model.get_sentence_embedding_dimension()\n",
    "index = faiss.IndexFlatL2(dimension)\n",
    "\n",
    "# Convert embeddings to numpy array and add to index\n",
    "vectors = np.array([embedding[\"embedding\"] for embedding in embeddings])\n",
    "index.add(vectors)\n",
    "print(f\"Number of vectors in index:{index.ntotal}\")\n",
    "\n",
    "metadata = []\n",
    "for embedding in embeddings:\n",
    "    metadata_item = {key: embedding[key] for key in embedding if key != \"embedding\"}\n",
    "    metadata.append(metadata_item)\n"
   ]
  },
  {
   "cell_type": "code",
   "execution_count": null,
   "metadata": {
    "id": "d45J36PoCA6e"
   },
   "outputs": [],
   "source": [
    "questions = ['Who is Tenali RamaKrishna?',\n",
    "'How did Tenali RamaKrishan Died?',\n",
    "'What is the moral of the story Tenali RamaKrishana and Foolish Thieves',\n",
    "'What is the moral of the story Tenali RamaKrishana and The Three Dolls',\n",
    "'What is TenaliRamaKrishna Famous for?',\n",
    "'Name some works by Tenali RamaKrishana',\n",
    "'Who is the author of Adventures of Pinocchio',\n",
    "'How many Chapters are there in Adventures of Pinocchio',\n",
    "'Why does Pinocchio nose grow when he lies?',\n",
    "'What makes Pinocchio decide to rescue Geppetto from the whale?',\n",
    "'What promise does Pinocchio make to the Blue Fairy?',\n",
    "'Who creates Pinocchio?',\n",
    "'Who is Pinocchio’s father?',\n",
    "'Why does the Blue Fairy help Pinocchio throughout his journey?',\n",
    "'What causes Pinocchio to run away from school?',\n",
    "'How does Geppetto show his love for Pinocchio?',\n",
    "'Instead of going to school where does Pinocchio go?',\n",
    "'How many coins does Pinocchio bury in the field?',\n",
    "'Who swallows Geppetto in the sea?',\n",
    "'In Toyland what is Pinocchio turned into?',\n",
    "'What happens at the end of the story?',\n",
    "'Who was Pinocchio?',\n",
    "'What was Pinocchio made of?', 'Where does the story of Pinocchio come from?',\n",
    "'On his way to school Pinocchio meets two strangers who lead him astray. Who are they?',\n",
    "'What happens each time Pinocchio tell s a lie?', 'Who was Pinocchio’s conscience?']"
   ]
  },
  {
   "cell_type": "code",
   "execution_count": 45,
   "metadata": {
    "id": "ruEM2NQMqZ_v"
   },
   "outputs": [],
   "source": [
    "reference_answers = [\n",
    "'Tenali Ramakrishna was a Telugu poet, scholar, and advisor in the court of Sri Krishnadevaraya of the Vijayanagara Empire.' ,\n",
    "'Died in 1528 reportedly due to a snakebite.',\n",
    "'Moral: We can overcome any trouble if we do not lose our cool and put our brains to work.',\n",
    "'Moral:The personality  of the person reflects through his thoughts. If you are crooked, your thoughts will be crooked and if you are straight and fair, your thoughts will be likewise.', 'Tenal RamaKrishna is famous for his wit and humour',\n",
    "'His notable work, Panduranga Mahatmyam, is considered a great Telugu Kavya. He also composed Udbhataradhya Charitamu, showcasing his deep connection to Shaivism.',\n",
    "'Author:Carlo Collodi',\n",
    "'36 chapters',\n",
    "'Pinocchios nose grows as a punishment and reminder of the consequences of dishonesty.',\n",
    "'Pinocchio realizes how much he loves and wants to protect Geppetto',\n",
    "'Pinocchio promises to be good, go to school, and take responsibility for his actions.',\n",
    "'Geppetto, a kind and lonely woodcarver, creates Pinocchio from a piece of wood.',\n",
    "'Geppetto is Pinocchio’s father.',\n",
    "'The Blue Fairy believes in Pinocchio’s potential for goodness and growth.',\n",
    "'He is tempted by promises of fun and excitement, which lead him astray',\n",
    "'Geppetto sacrifices his own comfort and safety, even risking his life, for Pinocchio’s well-being.',\n",
    "'A Puppet Show', 'Four', 'A Shark', 'A Donkey', 'Pinocchio’s wish comes true and he becomes a real boy.',\n",
    "'A Puppet', 'Wood', 'Italy', 'Fox and Cat', 'His nose grows', 'Jiminy Cricket']"
   ]
  },
  {
   "cell_type": "markdown",
   "metadata": {
    "id": "P7pbnSq2bcbU"
   },
   "source": [
    "Appraoch 1: Using Just RAG"
   ]
  },
  {
   "cell_type": "code",
   "execution_count": 46,
   "metadata": {
    "colab": {
     "base_uri": "https://localhost:8080/"
    },
    "id": "BBR0Ps4oaOT6",
    "outputId": "625fde7c-9959-4c10-871f-2e9eb3da0406"
   },
   "outputs": [
    {
     "name": "stdout",
     "output_type": "stream",
     "text": [
      "[{'Question': 'Who is Tenali RamaKrishna?', 'Answer': 'Tenali Rama  Krishna   Tenali Ramakrishna  (22 September 1480 – 5 August 1528) was a  Telugu  poet, scholar,  and advisor in the court of  Sri Krishnadevaraya  of the  Vijayanagara Empire .  Early life:   Tenali Ramakrishna was born in Tenali in a Telugu -speaking Brahmin family. Despite lack of formal education, his thirst for knowledge led him to become a renowned  scholar.'}, {'Question': 'How did Tenali RamaKrishan Died?', 'Answer': 'At the end of three days,  none  of the ministers could figure  out the difference . The king got worried and went to visit Tenali Rama . He said to him, “Tenali it is a  matter of our honour now .  Tenali Rama  Krishna   Tenali Ramakrishna  (22 September 1480 – 5 August 1528) was a  Telugu  poet, scholar,  and advisor in the court of  Sri Krishnadevaraya  of the  Vijayanagara Empire .'}, {'Question': 'What is the moral of the story Tenali RamaKrishana and Foolish Thieves', 'Answer': 'Tenali Rama and The Foolish thieves   A gang of thieves was ransacking every house in the Vijayanagara  kingdom. The  city chief was troubled as his guards were unable to catch the thieves.  The story of how the smart Tenali Rama caught the thieves was  the talk of the town for days. Moral:  We can overcome any trouble if we do not lose our cool and put our  brains to work.'}, {'Question': 'What is the moral of the story Tenali RamaKrishana and The Three Dolls', 'Answer': 'Tenali Rama and The Three Dolls     The great king Krishna Deva Raya had a lot of wise ministers in his court. The wisest of them  was Tenali Rama . One day, a merchant came to the king’s court.  He said, “ These three dolls are different because one of them is good, one average and one  bad.”     When everyone asked Tenali that which doll was which, he showed them a  tiny hole that  was present in the ears of each of the dolls .'}, {'Question': 'What is TenaliRamaKrishna Famous for?', 'Answer': 'Early life:   Tenali Ramakrishna was born in Tenali in a Telugu -speaking Brahmin family. Despite lack of formal education, his thirst for knowledge led him to become a renowned  scholar.  Tenali Rama  Krishna   Tenali Ramakrishna  (22 September 1480 – 5 August 1528) was a  Telugu  poet, scholar,  and advisor in the court of  Sri Krishnadevaraya  of the  Vijayanagara Empire .'}, {'Question': 'Name some works by Tenali RamaKrishana', 'Answer': 'Tenali Rama  Krishna   Tenali Ramakrishna  (22 September 1480 – 5 August 1528) was a  Telugu  poet, scholar,  and advisor in the court of  Sri Krishnadevaraya  of the  Vijayanagara Empire .  Literary works:   His notable work, Panduranga Mahatmyam, is considered a great Telu gu Kavya. He also composed Udbhataradhya Charitamu, showcasing his deep connection to Shaivism.'}, {'Question': 'Who is the author of Adventures of Pinocchio', 'Answer': 'The Project Gutenberg eBook of  The Adventures of Pinocchio   This ebook is for the use of anyone anywhere in the United States and most other parts of the  world at no cost and with almost no restrictions whatsoever.  Title: The Adventures of Pinocchio   Author: Carlo Collodi   Translator: Carol Della Chiesa   Release date: January 12, 2006 [eBook #500]   Most recently updated: January 28, 2021   Language: English   Credits: Produced by Charles Ke ller (for Tina); and David Widger   *** START OF THE PROJECT GUTENBERG EBOOK THE ADVENTURES OF  PINOCCHIO ***     THE  ADVENTURES  OF  PINOCCHIO   by C. Collodi  [Pseudonym of Carlo  Lorenzini]   Translated from the Italian by  Carol Della Chiesa         CONTENTS    CHAPTER 1   CHAPTER 2   CHAPTER 3   CHAPTER 4   CHAPTER 5   CHAPTER 6   CHAPTER 7   CHAPTER 8   CHAPTER 9   CHAPTER 10   CHAPTER 11   CHAPTER 12   CHAPTER 13   CHAPT ER 14   CHAPTER 15   CHAPTER 16   CHAPTER 17   CHAPTER 18   CHAPTER 19   CHAPTER 20   CHAPTER 21   CHAPTER 22   CHAPTER 23   CHAPTER 24   CHAPTER 25   CHAPT ER 26   CHAPTER 27   CHAPTER 28   CHAPTER 29   CHAPTER 30   CHAPTER 31  CHAPTER 32   CHAPTER 33   CHAPTER 34   CHAPTER 35   CHAPTER 36                                              CHAPTER 1   How it happened that Mastro Cherry, carpenter, found a piece of wood that wept  and laughed like a child.'}, {'Question': 'How many Chapters are there in Adventures of Pinocchio', 'Answer': 'The Project Gutenberg eBook of  The Adventures of Pinocchio   This ebook is for the use of anyone anywhere in the United States and most other parts of the  world at no cost and with almost no restrictions whatsoever.  CHAPTER 24  Pinocchio reaches the Island of the Busy Bees and finds the Fairy once more.'}, {'Question': 'Why does Pinocchio nose grow when he lies?', 'Answer': 'I know Pinocchio well and he is indeed a very wicked fellow, lazy and  disobedient, who instead of going to school, runs away with his playmates to have  a good time.”   At this speech, his nose returned to its natural size.  “I think he’s a very good boy, fond of study, obedient, kind to his Father, and to  his whole family —”  As he was telling all these enormous lies about himself, Pinocchio touched his  nose and found it twice as long as it should be.'}, {'Question': 'What makes Pinocchio decide to rescue Geppetto from the whale?', 'Answer': 'The two  fugitives were just about to dive into the sea when the Shark sneezed very  suddenly an d, as he sneezed, he gave Pinocchio and Geppetto such a jolt that they  found themselves thrown on their backs and dashed once more and very  unceremoniously into the stomach of the monster.  I’ll take care of everything  else.”   As soon as Geppetto was comfortably seated on his shoulders, Pinocchio, very  sure of what he was doing, dived into the water and started to swim.'}, {'Question': 'What promise does Pinocchio make to the Blue Fairy?', 'Answer': 'That beautiful lady is my Fairy!” said Pinocchio to  himself, recognizing her. He felt so happy that he tried his best to cry out:   “Oh, my Fairy!.  “You will obey me always and do as I wish?”   “Gladly, very gladly, more than gladly!”   “Beginning tomorrow,” said the Fairy, “you’ll go to school every day.”   Pinocchio’s face fell a little.'}, {'Question': 'Who creates Pinocchio?', 'Answer': 'Pinocchio went to the owner of a  circus, who wanted to teach him to do tricks for his audiences. And now do you understand what the Little Man’s profession was?.  My dear, we never know what life may  have in store for us!”         CHAPTER 8   Geppetto makes Pinocchio a new pair of feet, and sells his coat to buy him an A - B-C book.'}, {'Question': 'Who is Pinocchio’s father?', 'Answer': 'Pinocchio looked closely for a few minutes and then gave a sharp cry:   “It’s my father!.  “I think he’s a very good boy, fond of study, obedient, kind to his Father, and to  his whole family —”  As he was telling all these enormous lies about himself, Pinocchio touched his  nose and found it twice as long as it should be.'}, {'Question': 'Why does the Blue Fairy help Pinocchio throughout his journey?', 'Answer': 'Pinocchio freed himself from his awkward position and once more began to run  in order to reach the Fairy’s house before dark.  CHAPTER 24  Pinocchio reaches the Island of the Busy Bees and finds the Fairy once more.'}, {'Question': 'What causes Pinocchio to run away from school?', 'Answer': 'The teacher warned him each day, and even the good Fairy repeated to him  many times:   “Take care, Pinocchio!. Those bad companions will soo ner or later make you lose  your love for study.  I know Pinocchio well and he is indeed a very wicked fellow, lazy and  disobedient, who instead of going to school, runs away with his playmates to have  a good time.”   At this speech, his nose returned to its natural size.'}, {'Question': 'How does Geppetto show his love for Pinocchio?', 'Answer': 'At that unexpected trick, Geppetto became very sad and downcast, more so than  he had ever been before. “Pinocchio, you wicked b oy!” he cried out.  My dear, we never know what life may  have in store for us!”         CHAPTER 8   Geppetto makes Pinocchio a new pair of feet, and sells his coat to buy him an A - B-C book.'}, {'Question': 'Instead of going to school where does Pinocchio go?', 'Answer': '“You will obey me always and do as I wish?”   “Gladly, very gladly, more than gladly!”   “Beginning tomorrow,” said the Fairy, “you’ll go to school every day.”   Pinocchio’s face fell a little.  “I understand,” said Pinocchio at once wearily, “this is no place for me!.'}, {'Question': 'How many coins does Pinocchio bury in the field?', 'Answer': 'They too k the four gold pieces which you have buried and ran away as fast as the wind. If you can catch  them, you’re a brave one!”   Pinocchio’s mouth opened wide.  “When did the show start?”   “It is starting now.”   “And how much does one pay to get in?”   “Four pennies.”   Pinocchio, who was wild with curiosity to know what was going on inside, lost  all his pride and said to the boy shamelessly:   “Will you give me four pennies until tomorrow?”   “I’d give them to you gladly,” answered the other, poking fun at him, “but just  now I can’t give them to you.”   “For the price of four pennies, I’ll sell you my coat.”   “If it rains, what shall I do with a coat of flowered paper?.'}, {'Question': 'Who swallows Geppetto in the sea?', 'Answer': 'I’ll take  you  there.’ We flew all night long, and next morning the fishermen were looking  toward the sea, crying, ‘There is a poor little man drowning,’ and I knew it was  you, because my heart told me so and I waved to you from the shore —”  “I knew you also,” put in  Geppetto, “and I wanted to go to you; but how could I?.  The two  fugitives were just about to dive into the sea when the Shark sneezed very  suddenly an d, as he sneezed, he gave Pinocchio and Geppetto such a jolt that they  found themselves thrown on their backs and dashed once more and very  unceremoniously into the stomach of the monster.'}, {'Question': 'In Toyland what is Pinocchio turned into?', 'Answer': 'When Pinocchio returned home, his father asked him:   “And where is the new suit?”   “I couldn’t find one to fit me.  Then he took him by the head and . . . CHAPTER 29   Pinocchio returns to the Fairy’s house and she promises him that, on the morrow,  he will cease to be a Marionette and become a boy.'}, {'Question': 'What happens at the end of the story?', 'Answer': 'I should have given the matter more thought.”   What happened after this is an almost unbelievable  story, but you may read it,  dear children, in the chapters that follow.  He  became very much interested in the story; he felt moved; he almost  wept. When the  Marionette had no more to say, the Judge put out his hand and rang a bell.'}, {'Question': 'Who was Pinocchio?', 'Answer': '“I think he’s a very good boy, fond of study, obedient, kind to his Father, and to  his whole family —”  As he was telling all these enormous lies about himself, Pinocchio touched his  nose and found it twice as long as it should be.  Everyone, at one time or another, has found some surprise awaiting him. Of the  kind which Pinocchio had on that eventful morning of his life, there are but few. What was it?.'}, {'Question': 'What was Pinocchio made of?', 'Answer': 'Happily for him, Pinocchio was made of very hard wood and the knives broke  into a thousand pieces. The Assassins looked at each other in d ismay, holding the  handles of the knives in their hands.  One  would have thought that Pinocchio had turned into a porpoise playing in the sun. After swimming for a long time, Pinocchio saw a large rock in the middle of the  sea, a rock as white as marble.'}, {'Question': 'Where does the story of Pinocchio come from?', 'Answer': '“I think he’s a very good boy, fond of study, obedient, kind to his Father, and to  his whole family —”  As he was telling all these enormous lies about himself, Pinocchio touched his  nose and found it twice as long as it should be.  Title: The Adventures of Pinocchio   Author: Carlo Collodi   Translator: Carol Della Chiesa   Release date: January 12, 2006 [eBook #500]   Most recently updated: January 28, 2021   Language: English   Credits: Produced by Charles Ke ller (for Tina); and David Widger   *** START OF THE PROJECT GUTENBERG EBOOK THE ADVENTURES OF  PINOCCHIO ***     THE  ADVENTURES  OF  PINOCCHIO   by C. Collodi  [Pseudonym of Carlo  Lorenzini]   Translated from the Italian by  Carol Della Chiesa         CONTENTS    CHAPTER 1   CHAPTER 2   CHAPTER 3   CHAPTER 4   CHAPTER 5   CHAPTER 6   CHAPTER 7   CHAPTER 8   CHAPTER 9   CHAPTER 10   CHAPTER 11   CHAPTER 12   CHAPTER 13   CHAPT ER 14   CHAPTER 15   CHAPTER 16   CHAPTER 17   CHAPTER 18   CHAPTER 19   CHAPTER 20   CHAPTER 21   CHAPTER 22   CHAPTER 23   CHAPTER 24   CHAPTER 25   CHAPT ER 26   CHAPTER 27   CHAPTER 28   CHAPTER 29   CHAPTER 30   CHAPTER 31  CHAPTER 32   CHAPTER 33   CHAPTER 34   CHAPTER 35   CHAPTER 36                                              CHAPTER 1   How it happened that Mastro Cherry, carpenter, found a piece of wood that wept  and laughed like a child.'}, {'Question': 'On his way to school Pinocchio meets two strangers who lead him astray. Who are they?', 'Answer': 'Everyone, at one time or another, has found some surprise awaiting him. Of the  kind which Pinocchio had on that eventful morning of his life, there are but few. What was it?.  If he had only known  then the dreadful things that were to happen to him on account of his disobedience!. CHAPTER 27   The great battle between Pinocchio and his playmates. One is wounded.'}, {'Question': 'What happens each time Pinocchio tell s a lie?', 'Answer': '“I think he’s a very good boy, fond of study, obedient, kind to his Father, and to  his whole family —”  As he was telling all these enormous lies about himself, Pinocchio touched his  nose and found it twice as long as it should be.  However, Pinocchio, not wishing to trust  him too much, threw himself once again into the sea.'}, {'Question': 'Who was Pinocchio’s conscience?', 'Answer': '“I think he’s a very good boy, fond of study, obedient, kind to his Father, and to  his whole family —”  As he was telling all these enormous lies about himself, Pinocchio touched his  nose and found it twice as long as it should be.  However, Pinocchio, not wishing to trust  him too much, threw himself once again into the sea.'}]\n"
     ]
    }
   ],
   "source": [
    "def retrieve_answer(question, index, embeddings, metadata, top_k=2):\n",
    "    \"\"\"\n",
    "    Objective: retrieve the most relevant chunks based on the question\n",
    "    Input: question, index, embeddings, metadata, top_k -> number of chunks to retrieve\n",
    "    Output: answers [list of top k answers]\"\"\"\n",
    "\n",
    "    question_embedding = model.encode([question])\n",
    "    scores, indices = index.search(np.array(question_embedding), top_k)\n",
    "\n",
    "    answers = []\n",
    "    for idx in indices[0]:\n",
    "        answers.append(metadata[idx][\"text\"])\n",
    "    return answers\n",
    "\n",
    "\n",
    "pure_rag_results = []\n",
    "for question in questions:\n",
    "    answers = retrieve_answer(question, index, embeddings, metadata)\n",
    "    formatted_answer =  \" \".join(answers).strip()\n",
    "    final_answer = formatted_answer.replace(\"..\", \".\").replace(\"\\n\", \" \")\n",
    "    pure_rag_results.append({\n",
    "        'Question': question,\n",
    "        'Answer': final_answer\n",
    "    })\n",
    "\n",
    "print(pure_rag_results)"
   ]
  },
  {
   "cell_type": "markdown",
   "metadata": {
    "id": "Tx8fx42CbrsF"
   },
   "source": [
    "Approach 2: Generating refined responses using LLM with RAG answers as input\n",
    "\n"
   ]
  },
  {
   "cell_type": "code",
   "execution_count": 47,
   "metadata": {
    "colab": {
     "base_uri": "https://localhost:8080/"
    },
    "id": "esTA9VHBa8I2",
    "outputId": "7a036318-5253-481e-a605-63d31735a8f0"
   },
   "outputs": [
    {
     "name": "stdout",
     "output_type": "stream",
     "text": [
      "{'question': 'How did Tenali RamaKrishan Died?', 'answer': '5 August 1528'}\n"
     ]
    }
   ],
   "source": [
    "# Store results for RAG + LLM with Context Chunks\n",
    "\n",
    "# Initialize your LLM\n",
    "llm_pipeline = pipeline(\"text2text-generation\", model=\"google/flan-t5-base\")\n",
    "rag_llm_context_results = []\n",
    "for question in questions:\n",
    "    context_chunks = retrieve_answer(question, index, embeddings, metadata)\n",
    "    context = \" \".join(context_chunks).strip()\n",
    "    prompt = f\"\"\"\n",
    "    Answer the question in a complete sentence based on the given context:\\nQ: {question} \\n\n",
    "    Context: {context} A:\\n\n",
    "    Make sure the answer is well-structured.\"\"\"\n",
    "\n",
    "    response = llm_pipeline(prompt, max_length=500, num_return_sequences=1)\n",
    "    response = response[0][\"generated_text\"].strip()\n",
    "\n",
    "    rag_llm_context_results.append({\n",
    "        'question': question,\n",
    "        'answer': response\n",
    "    })\n",
    "print(rag_llm_context_results[1])"
   ]
  },
  {
   "cell_type": "code",
   "execution_count": 48,
   "metadata": {
    "colab": {
     "base_uri": "https://localhost:8080/"
    },
    "id": "_JcHUZdPGT0x",
    "outputId": "216ed8d8-e244-42be-c913-f38cc64267e4"
   },
   "outputs": [
    {
     "name": "stdout",
     "output_type": "stream",
     "text": [
      "['Tenali Rama  Krishna   Tenali Ramakrishna  (22 September 1480 – 5 August 1528) was a  Telugu  poet, scholar,  and advisor in the court of  Sri Krishnadevaraya  of the  Vijayanagara Empire .  Early life:   Tenali Ramakrishna was born in Tenali in a Telugu -speaking Brahmin family. Despite lack of formal education, his thirst for knowledge led him to become a renowned  scholar.', 'At the end of three days,  none  of the ministers could figure  out the difference . The king got worried and went to visit Tenali Rama . He said to him, “Tenali it is a  matter of our honour now .  Tenali Rama  Krishna   Tenali Ramakrishna  (22 September 1480 – 5 August 1528) was a  Telugu  poet, scholar,  and advisor in the court of  Sri Krishnadevaraya  of the  Vijayanagara Empire .', 'Tenali Rama and The Foolish thieves   A gang of thieves was ransacking every house in the Vijayanagara  kingdom. The  city chief was troubled as his guards were unable to catch the thieves.  The story of how the smart Tenali Rama caught the thieves was  the talk of the town for days. Moral:  We can overcome any trouble if we do not lose our cool and put our  brains to work.', 'Tenali Rama and The Three Dolls     The great king Krishna Deva Raya had a lot of wise ministers in his court. The wisest of them  was Tenali Rama . One day, a merchant came to the king’s court.  He said, “ These three dolls are different because one of them is good, one average and one  bad.”     When everyone asked Tenali that which doll was which, he showed them a  tiny hole that  was present in the ears of each of the dolls .', 'Early life:   Tenali Ramakrishna was born in Tenali in a Telugu -speaking Brahmin family. Despite lack of formal education, his thirst for knowledge led him to become a renowned  scholar.  Tenali Rama  Krishna   Tenali Ramakrishna  (22 September 1480 – 5 August 1528) was a  Telugu  poet, scholar,  and advisor in the court of  Sri Krishnadevaraya  of the  Vijayanagara Empire .', 'Tenali Rama  Krishna   Tenali Ramakrishna  (22 September 1480 – 5 August 1528) was a  Telugu  poet, scholar,  and advisor in the court of  Sri Krishnadevaraya  of the  Vijayanagara Empire .  Literary works:   His notable work, Panduranga Mahatmyam, is considered a great Telu gu Kavya. He also composed Udbhataradhya Charitamu, showcasing his deep connection to Shaivism.', 'The Project Gutenberg eBook of  The Adventures of Pinocchio   This ebook is for the use of anyone anywhere in the United States and most other parts of the  world at no cost and with almost no restrictions whatsoever.  Title: The Adventures of Pinocchio   Author: Carlo Collodi   Translator: Carol Della Chiesa   Release date: January 12, 2006 [eBook #500]   Most recently updated: January 28, 2021   Language: English   Credits: Produced by Charles Ke ller (for Tina); and David Widger   *** START OF THE PROJECT GUTENBERG EBOOK THE ADVENTURES OF  PINOCCHIO ***     THE  ADVENTURES  OF  PINOCCHIO   by C. Collodi  [Pseudonym of Carlo  Lorenzini]   Translated from the Italian by  Carol Della Chiesa         CONTENTS    CHAPTER 1   CHAPTER 2   CHAPTER 3   CHAPTER 4   CHAPTER 5   CHAPTER 6   CHAPTER 7   CHAPTER 8   CHAPTER 9   CHAPTER 10   CHAPTER 11   CHAPTER 12   CHAPTER 13   CHAPT ER 14   CHAPTER 15   CHAPTER 16   CHAPTER 17   CHAPTER 18   CHAPTER 19   CHAPTER 20   CHAPTER 21   CHAPTER 22   CHAPTER 23   CHAPTER 24   CHAPTER 25   CHAPT ER 26   CHAPTER 27   CHAPTER 28   CHAPTER 29   CHAPTER 30   CHAPTER 31  CHAPTER 32   CHAPTER 33   CHAPTER 34   CHAPTER 35   CHAPTER 36                                              CHAPTER 1   How it happened that Mastro Cherry, carpenter, found a piece of wood that wept  and laughed like a child.', 'The Project Gutenberg eBook of  The Adventures of Pinocchio   This ebook is for the use of anyone anywhere in the United States and most other parts of the  world at no cost and with almost no restrictions whatsoever.  CHAPTER 24  Pinocchio reaches the Island of the Busy Bees and finds the Fairy once more.', 'I know Pinocchio well and he is indeed a very wicked fellow, lazy and  disobedient, who instead of going to school, runs away with his playmates to have  a good time.”   At this speech, his nose returned to its natural size.  “I think he’s a very good boy, fond of study, obedient, kind to his Father, and to  his whole family —”  As he was telling all these enormous lies about himself, Pinocchio touched his  nose and found it twice as long as it should be.', 'The two  fugitives were just about to dive into the sea when the Shark sneezed very  suddenly an d, as he sneezed, he gave Pinocchio and Geppetto such a jolt that they  found themselves thrown on their backs and dashed once more and very  unceremoniously into the stomach of the monster.  I’ll take care of everything  else.”   As soon as Geppetto was comfortably seated on his shoulders, Pinocchio, very  sure of what he was doing, dived into the water and started to swim.', 'That beautiful lady is my Fairy!” said Pinocchio to  himself, recognizing her. He felt so happy that he tried his best to cry out:   “Oh, my Fairy!.  “You will obey me always and do as I wish?”   “Gladly, very gladly, more than gladly!”   “Beginning tomorrow,” said the Fairy, “you’ll go to school every day.”   Pinocchio’s face fell a little.', 'Pinocchio went to the owner of a  circus, who wanted to teach him to do tricks for his audiences. And now do you understand what the Little Man’s profession was?.  My dear, we never know what life may  have in store for us!”         CHAPTER 8   Geppetto makes Pinocchio a new pair of feet, and sells his coat to buy him an A - B-C book.', 'Pinocchio looked closely for a few minutes and then gave a sharp cry:   “It’s my father!.  “I think he’s a very good boy, fond of study, obedient, kind to his Father, and to  his whole family —”  As he was telling all these enormous lies about himself, Pinocchio touched his  nose and found it twice as long as it should be.', 'Pinocchio freed himself from his awkward position and once more began to run  in order to reach the Fairy’s house before dark.  CHAPTER 24  Pinocchio reaches the Island of the Busy Bees and finds the Fairy once more.', 'The teacher warned him each day, and even the good Fairy repeated to him  many times:   “Take care, Pinocchio!. Those bad companions will soo ner or later make you lose  your love for study.  I know Pinocchio well and he is indeed a very wicked fellow, lazy and  disobedient, who instead of going to school, runs away with his playmates to have  a good time.”   At this speech, his nose returned to its natural size.', 'At that unexpected trick, Geppetto became very sad and downcast, more so than  he had ever been before. “Pinocchio, you wicked b oy!” he cried out.  My dear, we never know what life may  have in store for us!”         CHAPTER 8   Geppetto makes Pinocchio a new pair of feet, and sells his coat to buy him an A - B-C book.', '“You will obey me always and do as I wish?”   “Gladly, very gladly, more than gladly!”   “Beginning tomorrow,” said the Fairy, “you’ll go to school every day.”   Pinocchio’s face fell a little.  “I understand,” said Pinocchio at once wearily, “this is no place for me!.', 'They too k the four gold pieces which you have buried and ran away as fast as the wind. If you can catch  them, you’re a brave one!”   Pinocchio’s mouth opened wide.  “When did the show start?”   “It is starting now.”   “And how much does one pay to get in?”   “Four pennies.”   Pinocchio, who was wild with curiosity to know what was going on inside, lost  all his pride and said to the boy shamelessly:   “Will you give me four pennies until tomorrow?”   “I’d give them to you gladly,” answered the other, poking fun at him, “but just  now I can’t give them to you.”   “For the price of four pennies, I’ll sell you my coat.”   “If it rains, what shall I do with a coat of flowered paper?.', 'I’ll take  you  there.’ We flew all night long, and next morning the fishermen were looking  toward the sea, crying, ‘There is a poor little man drowning,’ and I knew it was  you, because my heart told me so and I waved to you from the shore —”  “I knew you also,” put in  Geppetto, “and I wanted to go to you; but how could I?.  The two  fugitives were just about to dive into the sea when the Shark sneezed very  suddenly an d, as he sneezed, he gave Pinocchio and Geppetto such a jolt that they  found themselves thrown on their backs and dashed once more and very  unceremoniously into the stomach of the monster.', 'When Pinocchio returned home, his father asked him:   “And where is the new suit?”   “I couldn’t find one to fit me.  Then he took him by the head and . . . CHAPTER 29   Pinocchio returns to the Fairy’s house and she promises him that, on the morrow,  he will cease to be a Marionette and become a boy.', 'I should have given the matter more thought.”   What happened after this is an almost unbelievable  story, but you may read it,  dear children, in the chapters that follow.  He  became very much interested in the story; he felt moved; he almost  wept. When the  Marionette had no more to say, the Judge put out his hand and rang a bell.', '“I think he’s a very good boy, fond of study, obedient, kind to his Father, and to  his whole family —”  As he was telling all these enormous lies about himself, Pinocchio touched his  nose and found it twice as long as it should be.  Everyone, at one time or another, has found some surprise awaiting him. Of the  kind which Pinocchio had on that eventful morning of his life, there are but few. What was it?.', 'Happily for him, Pinocchio was made of very hard wood and the knives broke  into a thousand pieces. The Assassins looked at each other in d ismay, holding the  handles of the knives in their hands.  One  would have thought that Pinocchio had turned into a porpoise playing in the sun. After swimming for a long time, Pinocchio saw a large rock in the middle of the  sea, a rock as white as marble.', '“I think he’s a very good boy, fond of study, obedient, kind to his Father, and to  his whole family —”  As he was telling all these enormous lies about himself, Pinocchio touched his  nose and found it twice as long as it should be.  Title: The Adventures of Pinocchio   Author: Carlo Collodi   Translator: Carol Della Chiesa   Release date: January 12, 2006 [eBook #500]   Most recently updated: January 28, 2021   Language: English   Credits: Produced by Charles Ke ller (for Tina); and David Widger   *** START OF THE PROJECT GUTENBERG EBOOK THE ADVENTURES OF  PINOCCHIO ***     THE  ADVENTURES  OF  PINOCCHIO   by C. Collodi  [Pseudonym of Carlo  Lorenzini]   Translated from the Italian by  Carol Della Chiesa         CONTENTS    CHAPTER 1   CHAPTER 2   CHAPTER 3   CHAPTER 4   CHAPTER 5   CHAPTER 6   CHAPTER 7   CHAPTER 8   CHAPTER 9   CHAPTER 10   CHAPTER 11   CHAPTER 12   CHAPTER 13   CHAPT ER 14   CHAPTER 15   CHAPTER 16   CHAPTER 17   CHAPTER 18   CHAPTER 19   CHAPTER 20   CHAPTER 21   CHAPTER 22   CHAPTER 23   CHAPTER 24   CHAPTER 25   CHAPT ER 26   CHAPTER 27   CHAPTER 28   CHAPTER 29   CHAPTER 30   CHAPTER 31  CHAPTER 32   CHAPTER 33   CHAPTER 34   CHAPTER 35   CHAPTER 36                                              CHAPTER 1   How it happened that Mastro Cherry, carpenter, found a piece of wood that wept  and laughed like a child.', 'Everyone, at one time or another, has found some surprise awaiting him. Of the  kind which Pinocchio had on that eventful morning of his life, there are but few. What was it?.  If he had only known  then the dreadful things that were to happen to him on account of his disobedience!. CHAPTER 27   The great battle between Pinocchio and his playmates. One is wounded.', '“I think he’s a very good boy, fond of study, obedient, kind to his Father, and to  his whole family —”  As he was telling all these enormous lies about himself, Pinocchio touched his  nose and found it twice as long as it should be.  However, Pinocchio, not wishing to trust  him too much, threw himself once again into the sea.', '“I think he’s a very good boy, fond of study, obedient, kind to his Father, and to  his whole family —”  As he was telling all these enormous lies about himself, Pinocchio touched his  nose and found it twice as long as it should be.  However, Pinocchio, not wishing to trust  him too much, threw himself once again into the sea.']\n",
      "['a renowned scholar', '5 August 1528', 'We can overcome any trouble if we do not lose our cool and put our brains to work.', 'The wisest of them was Tenali Rama', 'poet, scholar, and advisor', 'Panduranga Mahatmyam', 'Carlo Collodi', '24', 'It was twice as long as it should be', 'the Shark sneezed very suddenly an d', 'You will obey me always and do as I wish', 'Geppetto', 'Father', 'the Fairy’s house before dark', 'playmates', 'makes Pinocchio a new pair of feet, and sells his coat to buy him an A - B-C book', 'Fairy', 'four', 'the monster', 'a boy', 'the Judge put out his hand and rang a bell', 'a very good boy', 'very hard wood', 'Carlo Collodi', 'One is wounded.', 'threw himself once again into the sea', 'Father']\n"
     ]
    }
   ],
   "source": [
    "#Structure the answers into a list\n",
    "retrieve_answers_rag = [result['Answer'] for result in pure_rag_results]\n",
    "retrieve_answers_llm = [result['answer'] for result in rag_llm_context_results]\n",
    "print(retrieve_answers_rag)\n",
    "print(retrieve_answers_llm)"
   ]
  },
  {
   "cell_type": "code",
   "execution_count": null,
   "metadata": {
    "colab": {
     "base_uri": "https://localhost:8080/"
    },
    "id": "k54KT0mtqJgN",
    "outputId": "526a3f44-40e9-4955-e176-65473a617b68"
   },
   "outputs": [],
   "source": [
    "#Evaluate the metrics\n",
    "semantic_model = SentenceTransformer('all-MiniLM-L6-v2')\n",
    "semantic_similarities = []\n",
    "\n",
    "\n",
    "def semantic_similarity_score(reference, generated, model):\n",
    "    \"\"\"\n",
    "    Objective: measure semantic similarity\n",
    "    Input: model, reference answers and the generated answers(rag/llm)\n",
    "    Output: semantic score (float)\"\"\"\n",
    "    ref_embedding = model.encode(reference, convert_to_tensor=True)\n",
    "    gen_embedding = model.encode(generated, convert_to_tensor=True)\n",
    "    return util.pytorch_cos_sim(ref_embedding, gen_embedding).item()\n",
    "\n",
    "def calculate_bert_score(reference, generated):\n",
    "    \"\"\"\n",
    "    Objective: measure bert score\n",
    "    Input: reference answers and the generated answers(rag/llm)\n",
    "    Output: Dictionary containing precision, recall and f1 score in float\"\"\"\n",
    "    scorer = BERTScorer(model_type='bert-base-uncased')\n",
    "    P, R, F1 = scorer.score([generated], [reference])\n",
    "    return {\n",
    "        \"precision\": P.mean().item(),\n",
    "        \"recall\": R.mean().item(),\n",
    "        \"f1\": F1.mean().item()\n",
    "    }\n",
    "\n",
    "def evaluate_metrics(questions, reference_answers, generated_answers, topic):\n",
    "    \"\"\"\n",
    "    Objective: Evaluate/Measure all Semantic, Bert and Rouge-l score\n",
    "    Input: questions, reference answers and the generated answers and topic(rag/llm)\n",
    "    Output: bert_scores, rouge_l_scores, semantic_similarities score (type: lists)\"\"\"\n",
    "    \n",
    "    bert_scores = []\n",
    "    rouge_l_scores = []\n",
    "    semantic_similarities = []\n",
    "    # Iterating through each question-answer pair to calculate metrics\n",
    "    for question, reference, generated in zip(questions, reference_answers, generated_answers):\n",
    "\n",
    "        # Semantic Similarity\n",
    "        similarity = semantic_similarity_score(reference, generated, semantic_model)\n",
    "        semantic_similarities.append(similarity)\n",
    "\n",
    "        #rouge_l_score\n",
    "        scorer = rouge_scorer.RougeScorer(['rougeL'], use_stemmer=True)\n",
    "        l_score = scorer.score(reference, generated)['rougeL']\n",
    "        rouge_l_scores.append(l_score)\n",
    "\n",
    "        #bert_score\n",
    "        score = calculate_bert_score(reference, generated)\n",
    "        bert_scores.append(score)\n",
    "\n",
    "    if topic == \"rag\":\n",
    "      print(\"Metrics for RAG:\")\n",
    "\n",
    "    else:\n",
    "      print(\"Metrics for RAG + LLM with Context Chunks:\")\n",
    "\n",
    "    print(\"Semantic Similarities:\", semantic_similarities)\n",
    "    print(\"ROUGE-L Score:\", rouge_l_scores)\n",
    "    print(\"BERT Score:\", bert_scores)\n",
    "\n",
    "    return semantic_similarities, rouge_l_scores, bert_scores\n",
    "\n",
    "semantic_similarities_rag, rouge_l_score_rag, bert_score_rag = evaluate_metrics(questions, reference_answers, retrieve_answers_rag, topic=\"rag\")\n",
    "semantic_similarities_llm, rouge_l_score_llm, bert_score_llm = evaluate_metrics(questions, reference_answers, retrieve_answers_llm, topic=\"llm_context\")\n"
   ]
  },
  {
   "cell_type": "code",
   "execution_count": null,
   "metadata": {
    "colab": {
     "base_uri": "https://localhost:8080/"
    },
    "id": "6LHzzPn9OEJ7",
    "outputId": "0641a5df-a6e0-42f5-def1-0df8723f4ae3"
   },
   "outputs": [],
   "source": [
    "def semantic_values(semantic_similarities):\n",
    "    \"\"\"\n",
    "    Objective: Calculate Max, Min and average semantic score for analysis\"\"\"\n",
    "    max_semantic_similarity = round(max(semantic_similarities), 4)\n",
    "    min_semantic_similarity = round(min(semantic_similarities), 4)\n",
    "    avg_semantic_similarity = round(sum(semantic_similarities) / len(semantic_similarities), 4)\n",
    "    return max_semantic_similarity, min_semantic_similarity, avg_semantic_similarity\n",
    "\n",
    "max_semantic_similarity_rag, min_semantic_similarity_rag, avg_semantic_similarity_rag = semantic_values(semantic_similarities_rag)\n",
    "max_semantic_similarity_llm, min_semantic_similarity_llm, avg_semantic_similarity_llm = semantic_values(semantic_similarities_llm)\n",
    "\n",
    "def rouge_l_f1_score(rouge_l_score):\n",
    "    \"\"\"\n",
    "    Objective: Calculate Max, Min and average Rouge_l F1 score for analysis\"\"\"\n",
    "    f_measures = [score.fmeasure for score in rouge_l_score]\n",
    "    max_rouge_l_f1 = round(max(f_measures), 4)\n",
    "    min_rouge_l_f1 = round(min(f_measures), 4)\n",
    "    avg_rouge_l_f1 = round(sum(f_measures) / len(f_measures), 4)\n",
    "    return max_rouge_l_f1, min_rouge_l_f1, avg_rouge_l_f1\n",
    "\n",
    "max_rouge_l_f1_rag, min_rouge_l_f1_rag, avg_rouge_l_f1_rag = rouge_l_f1_score(rouge_l_score_rag)\n",
    "max_rouge_l_f1_llm, min_rouge_l_f1_llm, avg_rouge_l_f1_llm = rouge_l_f1_score(rouge_l_score_llm)\n",
    "\n",
    "def bert_precision_score(bert_scores):\n",
    "    \"\"\"\n",
    "    Objective: Calculate Max, Min and average BERT Precision score for analysis\"\"\"\n",
    "    precisions = [score['precision'] for score in bert_scores]\n",
    "    max_precision, min_precision, avg_precision = round(max(precisions), 4), round(min(precisions), 4), round(sum(precisions) / len(precisions), 4)\n",
    "    return max_precision, min_precision, avg_precision\n",
    "\n",
    "max_bert_precision_rag, min_bert_precision_rag, avg_bert_precision_rag = bert_precision_score(bert_score_rag)\n",
    "max_bert_precision_llm, min_bert_precision_llm, avg_bert_precision_llm = bert_precision_score(bert_score_llm)\n",
    "\n",
    "def bert_recall_score(bert_scores):\n",
    "    \"\"\"\n",
    "    Objective: Calculate Max, Min and average BERT Recall score for analysis\"\"\"\n",
    "    recalls = [score['recall'] for score in bert_scores]\n",
    "    max_recall, min_recall, avg_recall = round(max(recalls), 4), round(min(recalls), 4), round(sum(recalls) / len(recalls), 4)\n",
    "    return max_recall, min_recall, avg_recall\n",
    "\n",
    "max_bert_recall_rag, min_bert_recall_rag, avg_bert_recall_rag = bert_recall_score(bert_score_rag)\n",
    "max_bert_recall_llm, min_bert_recall_llm, avg_bert_recall_llm = bert_recall_score(bert_score_llm)\n",
    "\n",
    "def bert_f1_score(bert_scores):\n",
    "    \"\"\"\n",
    "    Objective: Calculate Max, Min and average BERT F1 score for analysis\"\"\"\n",
    "    f1s = [score['f1'] for score in bert_scores]\n",
    "    max_f1, min_f1, avg_f1 = round(max(f1s), 4), round(min(f1s), 4), round(sum(f1s) / len(f1s), 4)\n",
    "    return max_f1, min_f1, avg_f1\n",
    "    \n",
    "max_bert_f1_rag, min_bert_f1_rag, avg_bert_f1_rag = bert_f1_score(bert_score_rag)\n",
    "max_bert_f1_llm, min_bert_f1_llm, avg_bert_f1_llm = bert_f1_score(bert_score_llm)\n",
    "\n",
    "data = {\n",
    "    \"Method\": [\"RAG\", \"LLM\"],\n",
    "    \"Semantic Similarity\": [f\"{max_semantic_similarity_rag} | {min_semantic_similarity_rag}\",\n",
    "                            f\"{max_semantic_similarity_llm} | {min_semantic_similarity_llm}\"],\n",
    "    \"Semantic Similarity avg\":[f\"{avg_semantic_similarity_rag}\",\n",
    "                         f\"{avg_semantic_similarity_llm}\"],\n",
    "    \"ROUGE-L F1 Score\": [f\"{max_rouge_l_f1_rag} | {min_rouge_l_f1_rag}\",\n",
    "                         f\"{max_rouge_l_f1_llm} | {min_rouge_l_f1_llm}\"],\n",
    "    \"ROUGE-L F1 avg\":[f\"{avg_rouge_l_f1_rag}\",\n",
    "                         f\"{avg_rouge_l_f1_llm}\"],\n",
    "    \"BERT Precision\": [f\"{max_bert_precision_rag} | {min_bert_precision_rag}\",\n",
    "                      f\"{max_bert_precision_llm} | {min_bert_precision_llm}\"],\n",
    "    \"BERT Precision avg\":[f\"{avg_bert_precision_rag}\",\n",
    "                         f\"{avg_bert_precision_llm}\"],\n",
    "    \"BERT Recall\": [f\"{max_bert_recall_rag} | {min_bert_recall_rag}\",\n",
    "                    f\"{max_bert_recall_llm} | {min_bert_recall_llm}\"],\n",
    "    \"BERT Recall avg\":[f\"{avg_bert_recall_rag}\",\n",
    "                         f\"{avg_bert_recall_llm}\"],\n",
    "    \"BERT F1 Score\": [f\"{max_bert_f1_rag} | {min_bert_f1_rag}\",\n",
    "                      f\"{max_bert_f1_llm} | {min_bert_f1_llm}\"],\n",
    "    \"BERT F1 avg\":[f\"{avg_bert_f1_rag}\",\n",
    "                         f\"{avg_bert_f1_llm}\"]\n",
    "}\n",
    "\n",
    "metrics_df = pd.DataFrame(data)\n",
    "\n",
    "\n",
    "print(metrics_df)\n",
    "\n",
    "# Save to a CSV file\n",
    "metrics_df.to_csv(\"evaluation_metrics.csv\", index=False)"
   ]
  },
  {
   "cell_type": "code",
   "execution_count": null,
   "metadata": {
    "colab": {
     "base_uri": "https://localhost:8080/"
    },
    "id": "PVJP1IucqrMa",
    "outputId": "860aefdf-dde9-42a5-d3bc-6e3449c5b540"
   },
   "outputs": [],
   "source": [
    "#Data Prep for Human Evaluation\n",
    "#Compare the reference answers and generated answer and label them\n",
    "#Check for wrong answers and check if there are any patterns.\n",
    "#analyse and suggestions for improvements.\n",
    "\n",
    "with open('results/rag_results.csv', mode='w', newline='', encoding='utf-8') as file:\n",
    "    writer = csv.writer(file)\n",
    "    writer.writerow(['Question', 'Reference Answer', 'RAG Answer'])\n",
    "    for question, ref_answer, rag_answer in zip(questions, reference_answers, retrieve_answers_rag):\n",
    "        writer.writerow([question, ref_answer, rag_answer])\n",
    "\n",
    "\n",
    "with open('results/llm_results.csv', mode='w', newline='', encoding='utf-8') as file:\n",
    "    writer = csv.writer(file)\n",
    "    writer.writerow(['Question', 'Reference Answer', 'LLM Answer'])\n",
    "    for question, ref_answer, llm_answer in zip(questions, reference_answers, retrieve_answers_llm):\n",
    "        writer.writerow([question, ref_answer, llm_answer])\n"
   ]
  },
  {
   "cell_type": "code",
   "execution_count": null,
   "metadata": {
    "colab": {
     "base_uri": "https://localhost:8080/"
    },
    "id": "v0x2SJ0ugY_H",
    "outputId": "9f9ae678-0d6d-4df6-b268-afde0120dbc2"
   },
   "outputs": [],
   "source": [
    "#Inferential Statistics -Bootstrap Sampling\n",
    "\n",
    "def bootstrap_sampling_bert_score(bert_scores,type, num_samples=1000, seed=42):\n",
    "    \"\"\"\n",
    "    Objective: Perform Bootstrap Ananlysis using Bert Scores\"\"\"\n",
    "    np.random.seed(seed)\n",
    "\n",
    "    precision_scores = []\n",
    "    recall_scores = []\n",
    "    f1_scores = []\n",
    "\n",
    "    num_examples = len(bert_scores)\n",
    "\n",
    "    # Calculate BERTScore for bootstrap samples\n",
    "    for _ in range(num_samples):\n",
    "        indices = np.random.choice(range(num_examples), size=num_examples, replace=True)\n",
    "        sampled_precision = [bert_scores[i][\"precision\"] for i in indices]\n",
    "        sampled_recall = [bert_scores[i][\"recall\"] for i in indices]\n",
    "        sampled_f1 = [bert_scores[i][\"f1\"] for i in indices]\n",
    "\n",
    "        precision_scores.append(np.mean(sampled_precision))\n",
    "        recall_scores.append(np.mean(sampled_recall))\n",
    "        f1_scores.append(np.mean(sampled_f1))\n",
    "\n",
    "    # Calculate confidence intervals\n",
    "    lower_percentile = 2.5\n",
    "    upper_percentile = 97.5\n",
    "\n",
    "    precision_conf_int = (np.percentile(precision_scores, lower_percentile), np.percentile(precision_scores, upper_percentile))\n",
    "    recall_conf_int = (np.percentile(recall_scores, lower_percentile), np.percentile(recall_scores, upper_percentile))\n",
    "    f1_conf_int = (np.percentile(f1_scores, lower_percentile), np.percentile(f1_scores, upper_percentile))\n",
    "\n",
    "    # Create a DataFrame to save results\n",
    "    results_df = pd.DataFrame({\n",
    "        'Metric': ['Precision', 'Recall', 'F1 Score'],\n",
    "        'Mean Score': [np.mean(precision_scores), np.mean(recall_scores), np.mean(f1_scores)],\n",
    "        'Confidence Interval Lower': [precision_conf_int[0], recall_conf_int[0], f1_conf_int[0]],\n",
    "        'Confidence Interval Upper': [precision_conf_int[1], recall_conf_int[1], f1_conf_int[1]],\n",
    "    })\n",
    "\n",
    "    if type == 'rag':  \n",
    "        results_df.to_csv('results/bert_bootstrap_result_rag.csv', index=False)\n",
    "    else:\n",
    "        results_df.to_csv('results/bert_bootstrap_result_llm.csv', index=False)\n",
    "    return precision_scores, recall_scores, f1_scores, precision_conf_int, recall_conf_int, f1_conf_int\n",
    "\n",
    "precision_scores_rag, recall_scores_rag, f1_scores_rag, precision_conf_int_rag, recall_conf_int_rag, f1_conf_int_rag = bootstrap_sampling_bert_score(bert_score_rag, type='rag')\n",
    "\n",
    "precision_scores_llm, recall_scores_llm, f1_scores_llm, precision_conf_int_llm, recall_conf_int_llm, f1_conf_int_llm = bootstrap_sampling_bert_score(bert_score_llm, type='llm')\n",
    "\n"
   ]
  }
 ],
 "metadata": {
  "colab": {
   "provenance": []
  },
  "kernelspec": {
   "display_name": "Python 3",
   "name": "python3"
  },
  "language_info": {
   "codemirror_mode": {
    "name": "ipython",
    "version": 3
   },
   "file_extension": ".py",
   "mimetype": "text/x-python",
   "name": "python",
   "nbconvert_exporter": "python",
   "pygments_lexer": "ipython3",
   "version": "3.12.6"
  }
 },
 "nbformat": 4,
 "nbformat_minor": 0
}
