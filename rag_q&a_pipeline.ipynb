{
 "cells": [
  {
   "cell_type": "code",
   "execution_count": 39,
   "metadata": {
    "colab": {
     "base_uri": "https://localhost:8080/"
    },
    "id": "1hGS71zhffZK",
    "outputId": "37e6c9d3-7968-447d-bab2-3177685e1053"
   },
   "outputs": [
    {
     "name": "stdout",
     "output_type": "stream",
     "text": [
      "Requirement already satisfied: PyPDF2 in /usr/local/lib/python3.10/dist-packages (3.0.1)\n",
      "Requirement already satisfied: nltk in /usr/local/lib/python3.10/dist-packages (3.8.1)\n",
      "Requirement already satisfied: click in /usr/local/lib/python3.10/dist-packages (from nltk) (8.1.7)\n",
      "Requirement already satisfied: joblib in /usr/local/lib/python3.10/dist-packages (from nltk) (1.4.2)\n",
      "Requirement already satisfied: regex>=2021.8.3 in /usr/local/lib/python3.10/dist-packages (from nltk) (2024.9.11)\n",
      "Requirement already satisfied: tqdm in /usr/local/lib/python3.10/dist-packages (from nltk) (4.66.6)\n",
      "Requirement already satisfied: faiss-cpu in /usr/local/lib/python3.10/dist-packages (1.9.0)\n",
      "Requirement already satisfied: numpy<3.0,>=1.25.0 in /usr/local/lib/python3.10/dist-packages (from faiss-cpu) (1.26.4)\n",
      "Requirement already satisfied: packaging in /usr/local/lib/python3.10/dist-packages (from faiss-cpu) (24.1)\n",
      "Requirement already satisfied: rouge_score in /usr/local/lib/python3.10/dist-packages (0.1.2)\n",
      "Requirement already satisfied: absl-py in /usr/local/lib/python3.10/dist-packages (from rouge_score) (1.4.0)\n",
      "Requirement already satisfied: nltk in /usr/local/lib/python3.10/dist-packages (from rouge_score) (3.8.1)\n",
      "Requirement already satisfied: numpy in /usr/local/lib/python3.10/dist-packages (from rouge_score) (1.26.4)\n",
      "Requirement already satisfied: six>=1.14.0 in /usr/local/lib/python3.10/dist-packages (from rouge_score) (1.16.0)\n",
      "Requirement already satisfied: click in /usr/local/lib/python3.10/dist-packages (from nltk->rouge_score) (8.1.7)\n",
      "Requirement already satisfied: joblib in /usr/local/lib/python3.10/dist-packages (from nltk->rouge_score) (1.4.2)\n",
      "Requirement already satisfied: regex>=2021.8.3 in /usr/local/lib/python3.10/dist-packages (from nltk->rouge_score) (2024.9.11)\n",
      "Requirement already satisfied: tqdm in /usr/local/lib/python3.10/dist-packages (from nltk->rouge_score) (4.66.6)\n",
      "Requirement already satisfied: bert-score in /usr/local/lib/python3.10/dist-packages (0.3.13)\n",
      "Requirement already satisfied: torch>=1.0.0 in /usr/local/lib/python3.10/dist-packages (from bert-score) (2.5.0+cu121)\n",
      "Requirement already satisfied: pandas>=1.0.1 in /usr/local/lib/python3.10/dist-packages (from bert-score) (2.2.2)\n",
      "Requirement already satisfied: transformers>=3.0.0 in /usr/local/lib/python3.10/dist-packages (from bert-score) (4.44.2)\n",
      "Requirement already satisfied: numpy in /usr/local/lib/python3.10/dist-packages (from bert-score) (1.26.4)\n",
      "Requirement already satisfied: requests in /usr/local/lib/python3.10/dist-packages (from bert-score) (2.32.3)\n",
      "Requirement already satisfied: tqdm>=4.31.1 in /usr/local/lib/python3.10/dist-packages (from bert-score) (4.66.6)\n",
      "Requirement already satisfied: matplotlib in /usr/local/lib/python3.10/dist-packages (from bert-score) (3.8.0)\n",
      "Requirement already satisfied: packaging>=20.9 in /usr/local/lib/python3.10/dist-packages (from bert-score) (24.1)\n",
      "Requirement already satisfied: python-dateutil>=2.8.2 in /usr/local/lib/python3.10/dist-packages (from pandas>=1.0.1->bert-score) (2.8.2)\n",
      "Requirement already satisfied: pytz>=2020.1 in /usr/local/lib/python3.10/dist-packages (from pandas>=1.0.1->bert-score) (2024.2)\n",
      "Requirement already satisfied: tzdata>=2022.7 in /usr/local/lib/python3.10/dist-packages (from pandas>=1.0.1->bert-score) (2024.2)\n",
      "Requirement already satisfied: filelock in /usr/local/lib/python3.10/dist-packages (from torch>=1.0.0->bert-score) (3.16.1)\n",
      "Requirement already satisfied: typing-extensions>=4.8.0 in /usr/local/lib/python3.10/dist-packages (from torch>=1.0.0->bert-score) (4.12.2)\n",
      "Requirement already satisfied: networkx in /usr/local/lib/python3.10/dist-packages (from torch>=1.0.0->bert-score) (3.4.2)\n",
      "Requirement already satisfied: jinja2 in /usr/local/lib/python3.10/dist-packages (from torch>=1.0.0->bert-score) (3.1.4)\n",
      "Requirement already satisfied: fsspec in /usr/local/lib/python3.10/dist-packages (from torch>=1.0.0->bert-score) (2024.10.0)\n",
      "Requirement already satisfied: sympy==1.13.1 in /usr/local/lib/python3.10/dist-packages (from torch>=1.0.0->bert-score) (1.13.1)\n",
      "Requirement already satisfied: mpmath<1.4,>=1.1.0 in /usr/local/lib/python3.10/dist-packages (from sympy==1.13.1->torch>=1.0.0->bert-score) (1.3.0)\n",
      "Requirement already satisfied: huggingface-hub<1.0,>=0.23.2 in /usr/local/lib/python3.10/dist-packages (from transformers>=3.0.0->bert-score) (0.24.7)\n",
      "Requirement already satisfied: pyyaml>=5.1 in /usr/local/lib/python3.10/dist-packages (from transformers>=3.0.0->bert-score) (6.0.2)\n",
      "Requirement already satisfied: regex!=2019.12.17 in /usr/local/lib/python3.10/dist-packages (from transformers>=3.0.0->bert-score) (2024.9.11)\n",
      "Requirement already satisfied: safetensors>=0.4.1 in /usr/local/lib/python3.10/dist-packages (from transformers>=3.0.0->bert-score) (0.4.5)\n",
      "Requirement already satisfied: tokenizers<0.20,>=0.19 in /usr/local/lib/python3.10/dist-packages (from transformers>=3.0.0->bert-score) (0.19.1)\n",
      "Requirement already satisfied: contourpy>=1.0.1 in /usr/local/lib/python3.10/dist-packages (from matplotlib->bert-score) (1.3.0)\n",
      "Requirement already satisfied: cycler>=0.10 in /usr/local/lib/python3.10/dist-packages (from matplotlib->bert-score) (0.12.1)\n",
      "Requirement already satisfied: fonttools>=4.22.0 in /usr/local/lib/python3.10/dist-packages (from matplotlib->bert-score) (4.54.1)\n",
      "Requirement already satisfied: kiwisolver>=1.0.1 in /usr/local/lib/python3.10/dist-packages (from matplotlib->bert-score) (1.4.7)\n",
      "Requirement already satisfied: pillow>=6.2.0 in /usr/local/lib/python3.10/dist-packages (from matplotlib->bert-score) (10.4.0)\n",
      "Requirement already satisfied: pyparsing>=2.3.1 in /usr/local/lib/python3.10/dist-packages (from matplotlib->bert-score) (3.2.0)\n",
      "Requirement already satisfied: charset-normalizer<4,>=2 in /usr/local/lib/python3.10/dist-packages (from requests->bert-score) (3.4.0)\n",
      "Requirement already satisfied: idna<4,>=2.5 in /usr/local/lib/python3.10/dist-packages (from requests->bert-score) (3.10)\n",
      "Requirement already satisfied: urllib3<3,>=1.21.1 in /usr/local/lib/python3.10/dist-packages (from requests->bert-score) (2.2.3)\n",
      "Requirement already satisfied: certifi>=2017.4.17 in /usr/local/lib/python3.10/dist-packages (from requests->bert-score) (2024.8.30)\n",
      "Requirement already satisfied: six>=1.5 in /usr/local/lib/python3.10/dist-packages (from python-dateutil>=2.8.2->pandas>=1.0.1->bert-score) (1.16.0)\n",
      "Requirement already satisfied: MarkupSafe>=2.0 in /usr/local/lib/python3.10/dist-packages (from jinja2->torch>=1.0.0->bert-score) (3.0.2)\n"
     ]
    },
    {
     "name": "stderr",
     "output_type": "stream",
     "text": [
      "[nltk_data] Downloading package punkt to /root/nltk_data...\n",
      "[nltk_data]   Package punkt is already up-to-date!\n"
     ]
    }
   ],
   "source": [
    "#Import all required libraries\n",
    "!pip install PyPDF2\n",
    "!pip install nltk\n",
    "!pip install faiss-cpu\n",
    "!pip install rouge_score\n",
    "!pip install bert-score\n",
    "from PyPDF2 import PdfReader\n",
    "import os\n",
    "import nltk\n",
    "from nltk.tokenize import sent_tokenize\n",
    "nltk.download('punkt')\n",
    "from sentence_transformers import SentenceTransformer, util\n",
    "import faiss\n",
    "import numpy as np\n",
    "import pandas as pd\n",
    "import re\n",
    "from transformers import pipeline\n",
    "from rouge_score import rouge_scorer\n",
    "from bert_score import BERTScorer\n",
    "import csv"
   ]
  },
  {
   "cell_type": "code",
   "execution_count": null,
   "metadata": {
    "colab": {
     "base_uri": "https://localhost:8080/"
    },
    "id": "pHhZyTMWABAv",
    "outputId": "6328eba2-5a48-42ec-bb02-2113404a3e13"
   },
   "outputs": [
    {
     "name": "stdout",
     "output_type": "stream",
     "text": [
      "Number of PDFs:4\n"
     ]
    }
   ],
   "source": [
    "def extract_text_from_pdfs(path):\n",
    "    \"\"\"\n",
    "    Objective: Read all pdf files in the folder\n",
    "    Input: Path of the folder\n",
    "    Output: text from all the pdf files (type: list of dictionaries) \"\"\"\n",
    "    text_data = []\n",
    "    for file in os.listdir(path):\n",
    "        if file.endswith(\".pdf\"):\n",
    "            pdf_path = os.path.join(path, file)\n",
    "            reader = PdfReader(pdf_path)\n",
    "            text = \"\".join([page.extract_text() for page in reader.pages])\n",
    "            text_data.append({\"filename\": file, \"text\": text})\n",
    "    return text_data\n",
    "\n",
    "pdf_text_data = extract_text_from_pdfs(\"data\")\n",
    "print(f\"Number of PDFs:{len(pdf_text_data)}\")\n"
   ]
  },
  {
   "cell_type": "code",
   "execution_count": 41,
   "metadata": {
    "colab": {
     "base_uri": "https://localhost:8080/"
    },
    "id": "XVZ5kT8lAjqq",
    "outputId": "8203f866-6be2-4b47-bdd2-95bf63fc24c4"
   },
   "outputs": [
    {
     "name": "stdout",
     "output_type": "stream",
     "text": [
      "Number of chunks:1454\n"
     ]
    }
   ],
   "source": [
    "def chunk_text(text_data, max_length=200):\n",
    "    \"\"\"\n",
    "    Objective: To turn the text data from each document into chunks.\n",
    "    input: text_data (list of documents), max_length -> maximum length of our chunks.\n",
    "    output: text chunks (type:list of dictionaries)\"\"\"\n",
    "\n",
    "    chunks = []\n",
    "    for doc in text_data:\n",
    "        sentences = sent_tokenize(doc[\"text\"])\n",
    "        chunk = \"\"\n",
    "        for sentence in sentences:\n",
    "            if len(chunk) + len(sentence) >= max_length:\n",
    "                chunks.append({\"filename\": doc[\"filename\"], \"text\": chunk})\n",
    "                chunk = \"\"\n",
    "            chunk += sentence + \". \"\n",
    "        chunks.append({\"filename\": doc[\"filename\"], \"text\": chunk})\n",
    "    return chunks\n",
    "\n",
    "chunked_data = chunk_text(pdf_text_data)\n",
    "print(f\"Number of chunks:{len(chunked_data)}\")\n"
   ]
  },
  {
   "cell_type": "code",
   "execution_count": 42,
   "metadata": {
    "colab": {
     "base_uri": "https://localhost:8080/"
    },
    "id": "R6ktmfd7A_tn",
    "outputId": "5f084972-a07f-45c9-9720-7291610ebcc2"
   },
   "outputs": [
    {
     "name": "stderr",
     "output_type": "stream",
     "text": [
      "/usr/local/lib/python3.10/dist-packages/transformers/tokenization_utils_base.py:1601: FutureWarning: `clean_up_tokenization_spaces` was not set. It will be set to `True` by default. This behavior will be depracted in transformers v4.45, and will be then set to `False` by default. For more details check this issue: https://github.com/huggingface/transformers/issues/31884\n",
      "  warnings.warn(\n"
     ]
    },
    {
     "name": "stdout",
     "output_type": "stream",
     "text": [
      "Number of embeddings:1454\n"
     ]
    }
   ],
   "source": [
    "# Initialize an embedding model\n",
    "model = SentenceTransformer('all-MiniLM-L6-v2')\n",
    "\n",
    "def get_embeddings(chunked_data):\n",
    "    \"\"\"\n",
    "    Objective: Turn each chunk into embeddings (vectors)\n",
    "    Input: Chunked text data\n",
    "    Output: Embdeddings for each chunk (type: list of dictionaries)\"\"\"\n",
    "    embeddings = []\n",
    "    for chunk in chunked_data:\n",
    "        embedding = model.encode(chunk[\"text\"])\n",
    "        embeddings.append({\n",
    "            \"filename\": chunk[\"filename\"],\n",
    "            \"text\": chunk[\"text\"],\n",
    "            \"embedding\": embedding\n",
    "        })\n",
    "    return embeddings\n",
    "\n",
    "embeddings = get_embeddings(chunked_data)\n",
    "print(f\"Number of embeddings:{len(embeddings)}\")"
   ]
  },
  {
   "cell_type": "code",
   "execution_count": 43,
   "metadata": {
    "colab": {
     "base_uri": "https://localhost:8080/"
    },
    "id": "pEuEC2fyBSX3",
    "outputId": "12942410-cb1e-4068-b44e-e5beb3491ee5"
   },
   "outputs": [
    {
     "name": "stdout",
     "output_type": "stream",
     "text": [
      "Number of vectors in index:1454\n"
     ]
    }
   ],
   "source": [
    "# Adding index for each embedding for fast retrieval\n",
    "\n",
    "# Initialize FAISS index\n",
    "dimension = model.get_sentence_embedding_dimension()\n",
    "index = faiss.IndexFlatL2(dimension)\n",
    "\n",
    "# Convert embeddings to numpy array and add to index\n",
    "vectors = np.array([embedding[\"embedding\"] for embedding in embeddings])\n",
    "index.add(vectors)\n",
    "print(f\"Number of vectors in index:{index.ntotal}\")\n",
    "\n",
    "metadata = []\n",
    "for embedding in embeddings:\n",
    "    metadata_item = {key: embedding[key] for key in embedding if key != \"embedding\"}\n",
    "    metadata.append(metadata_item)\n"
   ]
  },
  {
   "cell_type": "code",
   "execution_count": null,
   "metadata": {
    "id": "d45J36PoCA6e"
   },
   "outputs": [],
   "source": [
    "questions = ['Who is Tenali RamaKrishna?',\n",
    "'How did Tenali RamaKrishan Died?',\n",
    "'What is the moral of the story Tenali RamaKrishana and Foolish Thieves',\n",
    "'What is the moral of the story Tenali RamaKrishana and The Three Dolls',\n",
    "'What is TenaliRamaKrishna Famous for?',\n",
    "'Name some works by Tenali RamaKrishana',\n",
    "'Who is the author of Adventures of Pinocchio',\n",
    "'How many Chapters are there in Adventures of Pinocchio',\n",
    "'Why does Pinocchio nose grow when he lies?',\n",
    "'What makes Pinocchio decide to rescue Geppetto from the whale?',\n",
    "'What promise does Pinocchio make to the Blue Fairy?',\n",
    "'Who creates Pinocchio?',\n",
    "'Who is Pinocchio’s father?',\n",
    "'Why does the Blue Fairy help Pinocchio throughout his journey?',\n",
    "'What causes Pinocchio to run away from school?',\n",
    "'How does Geppetto show his love for Pinocchio?',\n",
    "'Instead of going to school where does Pinocchio go?',\n",
    "'How many coins does Pinocchio bury in the field?',\n",
    "'Who swallows Geppetto in the sea?',\n",
    "'In Toyland what is Pinocchio turned into?',\n",
    "'What happens at the end of the story?',\n",
    "'Who was Pinocchio?',\n",
    "'What was Pinocchio made of?', 'Where does the story of Pinocchio come from?',\n",
    "'On his way to school Pinocchio meets two strangers who lead him astray. Who are they?',\n",
    "'What happens each time Pinocchio tell s a lie?', 'Who was Pinocchio’s conscience?']"
   ]
  },
  {
   "cell_type": "code",
   "execution_count": 45,
   "metadata": {
    "id": "ruEM2NQMqZ_v"
   },
   "outputs": [],
   "source": [
    "reference_answers = [\n",
    "'Tenali Ramakrishna was a Telugu poet, scholar, and advisor in the court of Sri Krishnadevaraya of the Vijayanagara Empire.' ,\n",
    "'Died in 1528 reportedly due to a snakebite.',\n",
    "'Moral: We can overcome any trouble if we do not lose our cool and put our brains to work.',\n",
    "'Moral:The personality  of the person reflects through his thoughts. If you are crooked, your thoughts will be crooked and if you are straight and fair, your thoughts will be likewise.', 'Tenal RamaKrishna is famous for his wit and humour',\n",
    "'His notable work, Panduranga Mahatmyam, is considered a great Telugu Kavya. He also composed Udbhataradhya Charitamu, showcasing his deep connection to Shaivism.',\n",
    "'Author:Carlo Collodi',\n",
    "'36 chapters',\n",
    "'Pinocchios nose grows as a punishment and reminder of the consequences of dishonesty.',\n",
    "'Pinocchio realizes how much he loves and wants to protect Geppetto',\n",
    "'Pinocchio promises to be good, go to school, and take responsibility for his actions.',\n",
    "'Geppetto, a kind and lonely woodcarver, creates Pinocchio from a piece of wood.',\n",
    "'Geppetto is Pinocchio’s father.',\n",
    "'The Blue Fairy believes in Pinocchio’s potential for goodness and growth.',\n",
    "'He is tempted by promises of fun and excitement, which lead him astray',\n",
    "'Geppetto sacrifices his own comfort and safety, even risking his life, for Pinocchio’s well-being.',\n",
    "'A Puppet Show', 'Four', 'A Shark', 'A Donkey', 'Pinocchio’s wish comes true and he becomes a real boy.',\n",
    "'A Puppet', 'Wood', 'Italy', 'Fox and Cat', 'His nose grows', 'Jiminy Cricket']"
   ]
  },
  {
   "cell_type": "markdown",
   "metadata": {
    "id": "P7pbnSq2bcbU"
   },
   "source": [
    "Appraoch 1: Using Just RAG"
   ]
  },
  {
   "cell_type": "code",
   "execution_count": 46,
   "metadata": {
    "colab": {
     "base_uri": "https://localhost:8080/"
    },
    "id": "BBR0Ps4oaOT6",
    "outputId": "625fde7c-9959-4c10-871f-2e9eb3da0406"
   },
   "outputs": [
    {
     "name": "stdout",
     "output_type": "stream",
     "text": [
      "[{'Question': 'Who is Tenali RamaKrishna?', 'Answer': 'Tenali Rama  Krishna   Tenali Ramakrishna  (22 September 1480 – 5 August 1528) was a  Telugu  poet, scholar,  and advisor in the court of  Sri Krishnadevaraya  of the  Vijayanagara Empire .  Early life:   Tenali Ramakrishna was born in Tenali in a Telugu -speaking Brahmin family. Despite lack of formal education, his thirst for knowledge led him to become a renowned  scholar.'}, {'Question': 'How did Tenali RamaKrishan Died?', 'Answer': 'At the end of three days,  none  of the ministers could figure  out the difference . The king got worried and went to visit Tenali Rama . He said to him, “Tenali it is a  matter of our honour now .  Tenali Rama  Krishna   Tenali Ramakrishna  (22 September 1480 – 5 August 1528) was a  Telugu  poet, scholar,  and advisor in the court of  Sri Krishnadevaraya  of the  Vijayanagara Empire .'}, {'Question': 'What is the moral of the story Tenali RamaKrishana and Foolish Thieves', 'Answer': 'Tenali Rama and The Foolish thieves   A gang of thieves was ransacking every house in the Vijayanagara  kingdom. The  city chief was troubled as his guards were unable to catch the thieves.  The story of how the smart Tenali Rama caught the thieves was  the talk of the town for days. Moral:  We can overcome any trouble if we do not lose our cool and put our  brains to work.'}, {'Question': 'What is the moral of the story Tenali RamaKrishana and The Three Dolls', 'Answer': 'Tenali Rama and The Three Dolls     The great king Krishna Deva Raya had a lot of wise ministers in his court. The wisest of them  was Tenali Rama . One day, a merchant came to the king’s court.  He said, “ These three dolls are different because one of them is good, one average and one  bad.”     When everyone asked Tenali that which doll was which, he showed them a  tiny hole that  was present in the ears of each of the dolls .'}, {'Question': 'What is TenaliRamaKrishna Famous for?', 'Answer': 'Early life:   Tenali Ramakrishna was born in Tenali in a Telugu -speaking Brahmin family. Despite lack of formal education, his thirst for knowledge led him to become a renowned  scholar.  Tenali Rama  Krishna   Tenali Ramakrishna  (22 September 1480 – 5 August 1528) was a  Telugu  poet, scholar,  and advisor in the court of  Sri Krishnadevaraya  of the  Vijayanagara Empire .'}, {'Question': 'Name some works by Tenali RamaKrishana', 'Answer': 'Tenali Rama  Krishna   Tenali Ramakrishna  (22 September 1480 – 5 August 1528) was a  Telugu  poet, scholar,  and advisor in the court of  Sri Krishnadevaraya  of the  Vijayanagara Empire .  Literary works:   His notable work, Panduranga Mahatmyam, is considered a great Telu gu Kavya. He also composed Udbhataradhya Charitamu, showcasing his deep connection to Shaivism.'}, {'Question': 'Who is the author of Adventures of Pinocchio', 'Answer': 'The Project Gutenberg eBook of  The Adventures of Pinocchio   This ebook is for the use of anyone anywhere in the United States and most other parts of the  world at no cost and with almost no restrictions whatsoever.  Title: The Adventures of Pinocchio   Author: Carlo Collodi   Translator: Carol Della Chiesa   Release date: January 12, 2006 [eBook #500]   Most recently updated: January 28, 2021   Language: English   Credits: Produced by Charles Ke ller (for Tina); and David Widger   *** START OF THE PROJECT GUTENBERG EBOOK THE ADVENTURES OF  PINOCCHIO ***     THE  ADVENTURES  OF  PINOCCHIO   by C. Collodi  [Pseudonym of Carlo  Lorenzini]   Translated from the Italian by  Carol Della Chiesa         CONTENTS    CHAPTER 1   CHAPTER 2   CHAPTER 3   CHAPTER 4   CHAPTER 5   CHAPTER 6   CHAPTER 7   CHAPTER 8   CHAPTER 9   CHAPTER 10   CHAPTER 11   CHAPTER 12   CHAPTER 13   CHAPT ER 14   CHAPTER 15   CHAPTER 16   CHAPTER 17   CHAPTER 18   CHAPTER 19   CHAPTER 20   CHAPTER 21   CHAPTER 22   CHAPTER 23   CHAPTER 24   CHAPTER 25   CHAPT ER 26   CHAPTER 27   CHAPTER 28   CHAPTER 29   CHAPTER 30   CHAPTER 31  CHAPTER 32   CHAPTER 33   CHAPTER 34   CHAPTER 35   CHAPTER 36                                              CHAPTER 1   How it happened that Mastro Cherry, carpenter, found a piece of wood that wept  and laughed like a child.'}, {'Question': 'How many Chapters are there in Adventures of Pinocchio', 'Answer': 'The Project Gutenberg eBook of  The Adventures of Pinocchio   This ebook is for the use of anyone anywhere in the United States and most other parts of the  world at no cost and with almost no restrictions whatsoever.  CHAPTER 24  Pinocchio reaches the Island of the Busy Bees and finds the Fairy once more.'}, {'Question': 'Why does Pinocchio nose grow when he lies?', 'Answer': 'I know Pinocchio well and he is indeed a very wicked fellow, lazy and  disobedient, who instead of going to school, runs away with his playmates to have  a good time.”   At this speech, his nose returned to its natural size.  “I think he’s a very good boy, fond of study, obedient, kind to his Father, and to  his whole family —”  As he was telling all these enormous lies about himself, Pinocchio touched his  nose and found it twice as long as it should be.'}, {'Question': 'What makes Pinocchio decide to rescue Geppetto from the whale?', 'Answer': 'The two  fugitives were just about to dive into the sea when the Shark sneezed very  suddenly an d, as he sneezed, he gave Pinocchio and Geppetto such a jolt that they  found themselves thrown on their backs and dashed once more and very  unceremoniously into the stomach of the monster.  I’ll take care of everything  else.”   As soon as Geppetto was comfortably seated on his shoulders, Pinocchio, very  sure of what he was doing, dived into the water and started to swim.'}, {'Question': 'What promise does Pinocchio make to the Blue Fairy?', 'Answer': 'That beautiful lady is my Fairy!” said Pinocchio to  himself, recognizing her. He felt so happy that he tried his best to cry out:   “Oh, my Fairy!.  “You will obey me always and do as I wish?”   “Gladly, very gladly, more than gladly!”   “Beginning tomorrow,” said the Fairy, “you’ll go to school every day.”   Pinocchio’s face fell a little.'}, {'Question': 'Who creates Pinocchio?', 'Answer': 'Pinocchio went to the owner of a  circus, who wanted to teach him to do tricks for his audiences. And now do you understand what the Little Man’s profession was?.  My dear, we never know what life may  have in store for us!”         CHAPTER 8   Geppetto makes Pinocchio a new pair of feet, and sells his coat to buy him an A - B-C book.'}, {'Question': 'Who is Pinocchio’s father?', 'Answer': 'Pinocchio looked closely for a few minutes and then gave a sharp cry:   “It’s my father!.  “I think he’s a very good boy, fond of study, obedient, kind to his Father, and to  his whole family —”  As he was telling all these enormous lies about himself, Pinocchio touched his  nose and found it twice as long as it should be.'}, {'Question': 'Why does the Blue Fairy help Pinocchio throughout his journey?', 'Answer': 'Pinocchio freed himself from his awkward position and once more began to run  in order to reach the Fairy’s house before dark.  CHAPTER 24  Pinocchio reaches the Island of the Busy Bees and finds the Fairy once more.'}, {'Question': 'What causes Pinocchio to run away from school?', 'Answer': 'The teacher warned him each day, and even the good Fairy repeated to him  many times:   “Take care, Pinocchio!. Those bad companions will soo ner or later make you lose  your love for study.  I know Pinocchio well and he is indeed a very wicked fellow, lazy and  disobedient, who instead of going to school, runs away with his playmates to have  a good time.”   At this speech, his nose returned to its natural size.'}, {'Question': 'How does Geppetto show his love for Pinocchio?', 'Answer': 'At that unexpected trick, Geppetto became very sad and downcast, more so than  he had ever been before. “Pinocchio, you wicked b oy!” he cried out.  My dear, we never know what life may  have in store for us!”         CHAPTER 8   Geppetto makes Pinocchio a new pair of feet, and sells his coat to buy him an A - B-C book.'}, {'Question': 'Instead of going to school where does Pinocchio go?', 'Answer': '“You will obey me always and do as I wish?”   “Gladly, very gladly, more than gladly!”   “Beginning tomorrow,” said the Fairy, “you’ll go to school every day.”   Pinocchio’s face fell a little.  “I understand,” said Pinocchio at once wearily, “this is no place for me!.'}, {'Question': 'How many coins does Pinocchio bury in the field?', 'Answer': 'They too k the four gold pieces which you have buried and ran away as fast as the wind. If you can catch  them, you’re a brave one!”   Pinocchio’s mouth opened wide.  “When did the show start?”   “It is starting now.”   “And how much does one pay to get in?”   “Four pennies.”   Pinocchio, who was wild with curiosity to know what was going on inside, lost  all his pride and said to the boy shamelessly:   “Will you give me four pennies until tomorrow?”   “I’d give them to you gladly,” answered the other, poking fun at him, “but just  now I can’t give them to you.”   “For the price of four pennies, I’ll sell you my coat.”   “If it rains, what shall I do with a coat of flowered paper?.'}, {'Question': 'Who swallows Geppetto in the sea?', 'Answer': 'I’ll take  you  there.’ We flew all night long, and next morning the fishermen were looking  toward the sea, crying, ‘There is a poor little man drowning,’ and I knew it was  you, because my heart told me so and I waved to you from the shore —”  “I knew you also,” put in  Geppetto, “and I wanted to go to you; but how could I?.  The two  fugitives were just about to dive into the sea when the Shark sneezed very  suddenly an d, as he sneezed, he gave Pinocchio and Geppetto such a jolt that they  found themselves thrown on their backs and dashed once more and very  unceremoniously into the stomach of the monster.'}, {'Question': 'In Toyland what is Pinocchio turned into?', 'Answer': 'When Pinocchio returned home, his father asked him:   “And where is the new suit?”   “I couldn’t find one to fit me.  Then he took him by the head and . . . CHAPTER 29   Pinocchio returns to the Fairy’s house and she promises him that, on the morrow,  he will cease to be a Marionette and become a boy.'}, {'Question': 'What happens at the end of the story?', 'Answer': 'I should have given the matter more thought.”   What happened after this is an almost unbelievable  story, but you may read it,  dear children, in the chapters that follow.  He  became very much interested in the story; he felt moved; he almost  wept. When the  Marionette had no more to say, the Judge put out his hand and rang a bell.'}, {'Question': 'Who was Pinocchio?', 'Answer': '“I think he’s a very good boy, fond of study, obedient, kind to his Father, and to  his whole family —”  As he was telling all these enormous lies about himself, Pinocchio touched his  nose and found it twice as long as it should be.  Everyone, at one time or another, has found some surprise awaiting him. Of the  kind which Pinocchio had on that eventful morning of his life, there are but few. What was it?.'}, {'Question': 'What was Pinocchio made of?', 'Answer': 'Happily for him, Pinocchio was made of very hard wood and the knives broke  into a thousand pieces. The Assassins looked at each other in d ismay, holding the  handles of the knives in their hands.  One  would have thought that Pinocchio had turned into a porpoise playing in the sun. After swimming for a long time, Pinocchio saw a large rock in the middle of the  sea, a rock as white as marble.'}, {'Question': 'Where does the story of Pinocchio come from?', 'Answer': '“I think he’s a very good boy, fond of study, obedient, kind to his Father, and to  his whole family —”  As he was telling all these enormous lies about himself, Pinocchio touched his  nose and found it twice as long as it should be.  Title: The Adventures of Pinocchio   Author: Carlo Collodi   Translator: Carol Della Chiesa   Release date: January 12, 2006 [eBook #500]   Most recently updated: January 28, 2021   Language: English   Credits: Produced by Charles Ke ller (for Tina); and David Widger   *** START OF THE PROJECT GUTENBERG EBOOK THE ADVENTURES OF  PINOCCHIO ***     THE  ADVENTURES  OF  PINOCCHIO   by C. Collodi  [Pseudonym of Carlo  Lorenzini]   Translated from the Italian by  Carol Della Chiesa         CONTENTS    CHAPTER 1   CHAPTER 2   CHAPTER 3   CHAPTER 4   CHAPTER 5   CHAPTER 6   CHAPTER 7   CHAPTER 8   CHAPTER 9   CHAPTER 10   CHAPTER 11   CHAPTER 12   CHAPTER 13   CHAPT ER 14   CHAPTER 15   CHAPTER 16   CHAPTER 17   CHAPTER 18   CHAPTER 19   CHAPTER 20   CHAPTER 21   CHAPTER 22   CHAPTER 23   CHAPTER 24   CHAPTER 25   CHAPT ER 26   CHAPTER 27   CHAPTER 28   CHAPTER 29   CHAPTER 30   CHAPTER 31  CHAPTER 32   CHAPTER 33   CHAPTER 34   CHAPTER 35   CHAPTER 36                                              CHAPTER 1   How it happened that Mastro Cherry, carpenter, found a piece of wood that wept  and laughed like a child.'}, {'Question': 'On his way to school Pinocchio meets two strangers who lead him astray. Who are they?', 'Answer': 'Everyone, at one time or another, has found some surprise awaiting him. Of the  kind which Pinocchio had on that eventful morning of his life, there are but few. What was it?.  If he had only known  then the dreadful things that were to happen to him on account of his disobedience!. CHAPTER 27   The great battle between Pinocchio and his playmates. One is wounded.'}, {'Question': 'What happens each time Pinocchio tell s a lie?', 'Answer': '“I think he’s a very good boy, fond of study, obedient, kind to his Father, and to  his whole family —”  As he was telling all these enormous lies about himself, Pinocchio touched his  nose and found it twice as long as it should be.  However, Pinocchio, not wishing to trust  him too much, threw himself once again into the sea.'}, {'Question': 'Who was Pinocchio’s conscience?', 'Answer': '“I think he’s a very good boy, fond of study, obedient, kind to his Father, and to  his whole family —”  As he was telling all these enormous lies about himself, Pinocchio touched his  nose and found it twice as long as it should be.  However, Pinocchio, not wishing to trust  him too much, threw himself once again into the sea.'}]\n"
     ]
    }
   ],
   "source": [
    "def retrieve_answer(question, index, embeddings, metadata, top_k=2):\n",
    "    \"\"\"\n",
    "    Objective: retrieve the most relevant chunks based on the question\n",
    "    Input: question, index, embeddings, metadata, top_k -> number of chunks to retrieve\n",
    "    Output: answers [list of top k answers]\"\"\"\n",
    "\n",
    "    question_embedding = model.encode([question])\n",
    "    scores, indices = index.search(np.array(question_embedding), top_k)\n",
    "\n",
    "    answers = []\n",
    "    for idx in indices[0]:\n",
    "        answers.append(metadata[idx][\"text\"])\n",
    "    return answers\n",
    "\n",
    "\n",
    "pure_rag_results = []\n",
    "for question in questions:\n",
    "    answers = retrieve_answer(question, index, embeddings, metadata)\n",
    "    formatted_answer =  \" \".join(answers).strip()\n",
    "    final_answer = formatted_answer.replace(\"..\", \".\").replace(\"\\n\", \" \")\n",
    "    pure_rag_results.append({\n",
    "        'Question': question,\n",
    "        'Answer': final_answer\n",
    "    })\n",
    "\n",
    "print(pure_rag_results)"
   ]
  },
  {
   "cell_type": "markdown",
   "metadata": {
    "id": "Tx8fx42CbrsF"
   },
   "source": [
    "Approach 2: Generating refined responses using LLM with RAG answers as input\n",
    "\n"
   ]
  },
  {
   "cell_type": "code",
   "execution_count": 47,
   "metadata": {
    "colab": {
     "base_uri": "https://localhost:8080/"
    },
    "id": "esTA9VHBa8I2",
    "outputId": "7a036318-5253-481e-a605-63d31735a8f0"
   },
   "outputs": [
    {
     "name": "stdout",
     "output_type": "stream",
     "text": [
      "{'question': 'How did Tenali RamaKrishan Died?', 'answer': '5 August 1528'}\n"
     ]
    }
   ],
   "source": [
    "# Store results for RAG + LLM with Context Chunks\n",
    "\n",
    "# Initialize your LLM\n",
    "llm_pipeline = pipeline(\"text2text-generation\", model=\"google/flan-t5-base\")\n",
    "rag_llm_context_results = []\n",
    "for question in questions:\n",
    "    context_chunks = retrieve_answer(question, index, embeddings, metadata)\n",
    "    context = \" \".join(context_chunks).strip()\n",
    "    prompt = f\"\"\"\n",
    "    Answer the question in a complete sentence based on the given context:\\nQ: {question} \\n\n",
    "    Context: {context} A:\\n\n",
    "    Make sure the answer is well-structured.\"\"\"\n",
    "\n",
    "    response = llm_pipeline(prompt, max_length=500, num_return_sequences=1)\n",
    "    response = response[0][\"generated_text\"].strip()\n",
    "\n",
    "    rag_llm_context_results.append({\n",
    "        'question': question,\n",
    "        'answer': response\n",
    "    })\n",
    "print(rag_llm_context_results[1])"
   ]
  },
  {
   "cell_type": "code",
   "execution_count": 48,
   "metadata": {
    "colab": {
     "base_uri": "https://localhost:8080/"
    },
    "id": "_JcHUZdPGT0x",
    "outputId": "216ed8d8-e244-42be-c913-f38cc64267e4"
   },
   "outputs": [
    {
     "name": "stdout",
     "output_type": "stream",
     "text": [
      "['Tenali Rama  Krishna   Tenali Ramakrishna  (22 September 1480 – 5 August 1528) was a  Telugu  poet, scholar,  and advisor in the court of  Sri Krishnadevaraya  of the  Vijayanagara Empire .  Early life:   Tenali Ramakrishna was born in Tenali in a Telugu -speaking Brahmin family. Despite lack of formal education, his thirst for knowledge led him to become a renowned  scholar.', 'At the end of three days,  none  of the ministers could figure  out the difference . The king got worried and went to visit Tenali Rama . He said to him, “Tenali it is a  matter of our honour now .  Tenali Rama  Krishna   Tenali Ramakrishna  (22 September 1480 – 5 August 1528) was a  Telugu  poet, scholar,  and advisor in the court of  Sri Krishnadevaraya  of the  Vijayanagara Empire .', 'Tenali Rama and The Foolish thieves   A gang of thieves was ransacking every house in the Vijayanagara  kingdom. The  city chief was troubled as his guards were unable to catch the thieves.  The story of how the smart Tenali Rama caught the thieves was  the talk of the town for days. Moral:  We can overcome any trouble if we do not lose our cool and put our  brains to work.', 'Tenali Rama and The Three Dolls     The great king Krishna Deva Raya had a lot of wise ministers in his court. The wisest of them  was Tenali Rama . One day, a merchant came to the king’s court.  He said, “ These three dolls are different because one of them is good, one average and one  bad.”     When everyone asked Tenali that which doll was which, he showed them a  tiny hole that  was present in the ears of each of the dolls .', 'Early life:   Tenali Ramakrishna was born in Tenali in a Telugu -speaking Brahmin family. Despite lack of formal education, his thirst for knowledge led him to become a renowned  scholar.  Tenali Rama  Krishna   Tenali Ramakrishna  (22 September 1480 – 5 August 1528) was a  Telugu  poet, scholar,  and advisor in the court of  Sri Krishnadevaraya  of the  Vijayanagara Empire .', 'Tenali Rama  Krishna   Tenali Ramakrishna  (22 September 1480 – 5 August 1528) was a  Telugu  poet, scholar,  and advisor in the court of  Sri Krishnadevaraya  of the  Vijayanagara Empire .  Literary works:   His notable work, Panduranga Mahatmyam, is considered a great Telu gu Kavya. He also composed Udbhataradhya Charitamu, showcasing his deep connection to Shaivism.', 'The Project Gutenberg eBook of  The Adventures of Pinocchio   This ebook is for the use of anyone anywhere in the United States and most other parts of the  world at no cost and with almost no restrictions whatsoever.  Title: The Adventures of Pinocchio   Author: Carlo Collodi   Translator: Carol Della Chiesa   Release date: January 12, 2006 [eBook #500]   Most recently updated: January 28, 2021   Language: English   Credits: Produced by Charles Ke ller (for Tina); and David Widger   *** START OF THE PROJECT GUTENBERG EBOOK THE ADVENTURES OF  PINOCCHIO ***     THE  ADVENTURES  OF  PINOCCHIO   by C. Collodi  [Pseudonym of Carlo  Lorenzini]   Translated from the Italian by  Carol Della Chiesa         CONTENTS    CHAPTER 1   CHAPTER 2   CHAPTER 3   CHAPTER 4   CHAPTER 5   CHAPTER 6   CHAPTER 7   CHAPTER 8   CHAPTER 9   CHAPTER 10   CHAPTER 11   CHAPTER 12   CHAPTER 13   CHAPT ER 14   CHAPTER 15   CHAPTER 16   CHAPTER 17   CHAPTER 18   CHAPTER 19   CHAPTER 20   CHAPTER 21   CHAPTER 22   CHAPTER 23   CHAPTER 24   CHAPTER 25   CHAPT ER 26   CHAPTER 27   CHAPTER 28   CHAPTER 29   CHAPTER 30   CHAPTER 31  CHAPTER 32   CHAPTER 33   CHAPTER 34   CHAPTER 35   CHAPTER 36                                              CHAPTER 1   How it happened that Mastro Cherry, carpenter, found a piece of wood that wept  and laughed like a child.', 'The Project Gutenberg eBook of  The Adventures of Pinocchio   This ebook is for the use of anyone anywhere in the United States and most other parts of the  world at no cost and with almost no restrictions whatsoever.  CHAPTER 24  Pinocchio reaches the Island of the Busy Bees and finds the Fairy once more.', 'I know Pinocchio well and he is indeed a very wicked fellow, lazy and  disobedient, who instead of going to school, runs away with his playmates to have  a good time.”   At this speech, his nose returned to its natural size.  “I think he’s a very good boy, fond of study, obedient, kind to his Father, and to  his whole family —”  As he was telling all these enormous lies about himself, Pinocchio touched his  nose and found it twice as long as it should be.', 'The two  fugitives were just about to dive into the sea when the Shark sneezed very  suddenly an d, as he sneezed, he gave Pinocchio and Geppetto such a jolt that they  found themselves thrown on their backs and dashed once more and very  unceremoniously into the stomach of the monster.  I’ll take care of everything  else.”   As soon as Geppetto was comfortably seated on his shoulders, Pinocchio, very  sure of what he was doing, dived into the water and started to swim.', 'That beautiful lady is my Fairy!” said Pinocchio to  himself, recognizing her. He felt so happy that he tried his best to cry out:   “Oh, my Fairy!.  “You will obey me always and do as I wish?”   “Gladly, very gladly, more than gladly!”   “Beginning tomorrow,” said the Fairy, “you’ll go to school every day.”   Pinocchio’s face fell a little.', 'Pinocchio went to the owner of a  circus, who wanted to teach him to do tricks for his audiences. And now do you understand what the Little Man’s profession was?.  My dear, we never know what life may  have in store for us!”         CHAPTER 8   Geppetto makes Pinocchio a new pair of feet, and sells his coat to buy him an A - B-C book.', 'Pinocchio looked closely for a few minutes and then gave a sharp cry:   “It’s my father!.  “I think he’s a very good boy, fond of study, obedient, kind to his Father, and to  his whole family —”  As he was telling all these enormous lies about himself, Pinocchio touched his  nose and found it twice as long as it should be.', 'Pinocchio freed himself from his awkward position and once more began to run  in order to reach the Fairy’s house before dark.  CHAPTER 24  Pinocchio reaches the Island of the Busy Bees and finds the Fairy once more.', 'The teacher warned him each day, and even the good Fairy repeated to him  many times:   “Take care, Pinocchio!. Those bad companions will soo ner or later make you lose  your love for study.  I know Pinocchio well and he is indeed a very wicked fellow, lazy and  disobedient, who instead of going to school, runs away with his playmates to have  a good time.”   At this speech, his nose returned to its natural size.', 'At that unexpected trick, Geppetto became very sad and downcast, more so than  he had ever been before. “Pinocchio, you wicked b oy!” he cried out.  My dear, we never know what life may  have in store for us!”         CHAPTER 8   Geppetto makes Pinocchio a new pair of feet, and sells his coat to buy him an A - B-C book.', '“You will obey me always and do as I wish?”   “Gladly, very gladly, more than gladly!”   “Beginning tomorrow,” said the Fairy, “you’ll go to school every day.”   Pinocchio’s face fell a little.  “I understand,” said Pinocchio at once wearily, “this is no place for me!.', 'They too k the four gold pieces which you have buried and ran away as fast as the wind. If you can catch  them, you’re a brave one!”   Pinocchio’s mouth opened wide.  “When did the show start?”   “It is starting now.”   “And how much does one pay to get in?”   “Four pennies.”   Pinocchio, who was wild with curiosity to know what was going on inside, lost  all his pride and said to the boy shamelessly:   “Will you give me four pennies until tomorrow?”   “I’d give them to you gladly,” answered the other, poking fun at him, “but just  now I can’t give them to you.”   “For the price of four pennies, I’ll sell you my coat.”   “If it rains, what shall I do with a coat of flowered paper?.', 'I’ll take  you  there.’ We flew all night long, and next morning the fishermen were looking  toward the sea, crying, ‘There is a poor little man drowning,’ and I knew it was  you, because my heart told me so and I waved to you from the shore —”  “I knew you also,” put in  Geppetto, “and I wanted to go to you; but how could I?.  The two  fugitives were just about to dive into the sea when the Shark sneezed very  suddenly an d, as he sneezed, he gave Pinocchio and Geppetto such a jolt that they  found themselves thrown on their backs and dashed once more and very  unceremoniously into the stomach of the monster.', 'When Pinocchio returned home, his father asked him:   “And where is the new suit?”   “I couldn’t find one to fit me.  Then he took him by the head and . . . CHAPTER 29   Pinocchio returns to the Fairy’s house and she promises him that, on the morrow,  he will cease to be a Marionette and become a boy.', 'I should have given the matter more thought.”   What happened after this is an almost unbelievable  story, but you may read it,  dear children, in the chapters that follow.  He  became very much interested in the story; he felt moved; he almost  wept. When the  Marionette had no more to say, the Judge put out his hand and rang a bell.', '“I think he’s a very good boy, fond of study, obedient, kind to his Father, and to  his whole family —”  As he was telling all these enormous lies about himself, Pinocchio touched his  nose and found it twice as long as it should be.  Everyone, at one time or another, has found some surprise awaiting him. Of the  kind which Pinocchio had on that eventful morning of his life, there are but few. What was it?.', 'Happily for him, Pinocchio was made of very hard wood and the knives broke  into a thousand pieces. The Assassins looked at each other in d ismay, holding the  handles of the knives in their hands.  One  would have thought that Pinocchio had turned into a porpoise playing in the sun. After swimming for a long time, Pinocchio saw a large rock in the middle of the  sea, a rock as white as marble.', '“I think he’s a very good boy, fond of study, obedient, kind to his Father, and to  his whole family —”  As he was telling all these enormous lies about himself, Pinocchio touched his  nose and found it twice as long as it should be.  Title: The Adventures of Pinocchio   Author: Carlo Collodi   Translator: Carol Della Chiesa   Release date: January 12, 2006 [eBook #500]   Most recently updated: January 28, 2021   Language: English   Credits: Produced by Charles Ke ller (for Tina); and David Widger   *** START OF THE PROJECT GUTENBERG EBOOK THE ADVENTURES OF  PINOCCHIO ***     THE  ADVENTURES  OF  PINOCCHIO   by C. Collodi  [Pseudonym of Carlo  Lorenzini]   Translated from the Italian by  Carol Della Chiesa         CONTENTS    CHAPTER 1   CHAPTER 2   CHAPTER 3   CHAPTER 4   CHAPTER 5   CHAPTER 6   CHAPTER 7   CHAPTER 8   CHAPTER 9   CHAPTER 10   CHAPTER 11   CHAPTER 12   CHAPTER 13   CHAPT ER 14   CHAPTER 15   CHAPTER 16   CHAPTER 17   CHAPTER 18   CHAPTER 19   CHAPTER 20   CHAPTER 21   CHAPTER 22   CHAPTER 23   CHAPTER 24   CHAPTER 25   CHAPT ER 26   CHAPTER 27   CHAPTER 28   CHAPTER 29   CHAPTER 30   CHAPTER 31  CHAPTER 32   CHAPTER 33   CHAPTER 34   CHAPTER 35   CHAPTER 36                                              CHAPTER 1   How it happened that Mastro Cherry, carpenter, found a piece of wood that wept  and laughed like a child.', 'Everyone, at one time or another, has found some surprise awaiting him. Of the  kind which Pinocchio had on that eventful morning of his life, there are but few. What was it?.  If he had only known  then the dreadful things that were to happen to him on account of his disobedience!. CHAPTER 27   The great battle between Pinocchio and his playmates. One is wounded.', '“I think he’s a very good boy, fond of study, obedient, kind to his Father, and to  his whole family —”  As he was telling all these enormous lies about himself, Pinocchio touched his  nose and found it twice as long as it should be.  However, Pinocchio, not wishing to trust  him too much, threw himself once again into the sea.', '“I think he’s a very good boy, fond of study, obedient, kind to his Father, and to  his whole family —”  As he was telling all these enormous lies about himself, Pinocchio touched his  nose and found it twice as long as it should be.  However, Pinocchio, not wishing to trust  him too much, threw himself once again into the sea.']\n",
      "['a renowned scholar', '5 August 1528', 'We can overcome any trouble if we do not lose our cool and put our brains to work.', 'The wisest of them was Tenali Rama', 'poet, scholar, and advisor', 'Panduranga Mahatmyam', 'Carlo Collodi', '24', 'It was twice as long as it should be', 'the Shark sneezed very suddenly an d', 'You will obey me always and do as I wish', 'Geppetto', 'Father', 'the Fairy’s house before dark', 'playmates', 'makes Pinocchio a new pair of feet, and sells his coat to buy him an A - B-C book', 'Fairy', 'four', 'the monster', 'a boy', 'the Judge put out his hand and rang a bell', 'a very good boy', 'very hard wood', 'Carlo Collodi', 'One is wounded.', 'threw himself once again into the sea', 'Father']\n"
     ]
    }
   ],
   "source": [
    "#Structure the answers into a list\n",
    "retrieve_answers_rag = [result['Answer'] for result in pure_rag_results]\n",
    "retrieve_answers_llm = [result['answer'] for result in rag_llm_context_results]\n",
    "print(retrieve_answers_rag)\n",
    "print(retrieve_answers_llm)"
   ]
  },
  {
   "cell_type": "code",
   "execution_count": null,
   "metadata": {
    "colab": {
     "base_uri": "https://localhost:8080/"
    },
    "id": "k54KT0mtqJgN",
    "outputId": "526a3f44-40e9-4955-e176-65473a617b68"
   },
   "outputs": [
    {
     "name": "stdout",
     "output_type": "stream",
     "text": [
      "Metrics for RAG:\n",
      "Semantic Similarities: [0.9293795228004456, 0.2222370207309723, 0.27843329310417175, 0.12259656935930252, 0.6699155569076538, 0.7559759616851807, 0.30894631147384644, 0.29931768774986267, 0.7245661020278931, 0.5606946349143982, 0.5655755996704102, 0.5999728441238403, 0.6564009189605713, 0.5804449319839478, 0.27406418323516846, 0.7148909568786621, 0.24727948009967804, 0.19533637166023254, 0.42944884300231934, 0.21362335979938507, 0.32420605421066284, 0.2715666890144348, 0.22804483771324158, 0.12992419302463531, 0.10910210758447647, 0.42135265469551086, 0.10341985523700714]\n",
      "ROUGE-L Score: [Score(precision=0.3275862068965517, recall=1.0, fmeasure=0.49350649350649356), Score(precision=0.030303030303030304, recall=0.25, fmeasure=0.054054054054054064), Score(precision=0.2714285714285714, recall=1.0, fmeasure=0.42696629213483145), Score(precision=0.06097560975609756, recall=0.16129032258064516, fmeasure=0.08849557522123894), Score(precision=0.05172413793103448, recall=0.3333333333333333, fmeasure=0.08955223880597016), Score(precision=0.39622641509433965, recall=0.9545454545454546, fmeasure=0.5599999999999999), Score(precision=0.014925373134328358, recall=1.0, fmeasure=0.029411764705882353), Score(precision=0.018518518518518517, recall=0.5, fmeasure=0.03571428571428571), Score(precision=0.05813953488372093, recall=0.38461538461538464, fmeasure=0.10101010101010101), Score(precision=0.047619047619047616, recall=0.36363636363636365, fmeasure=0.08421052631578947), Score(precision=0.08196721311475409, recall=0.35714285714285715, fmeasure=0.13333333333333333), Score(precision=0.07575757575757576, recall=0.38461538461538464, fmeasure=0.12658227848101267), Score(precision=0.04838709677419355, recall=0.6, fmeasure=0.08955223880597016), Score(precision=0.10256410256410256, recall=0.3333333333333333, fmeasure=0.15686274509803919), Score(precision=0.04, recall=0.23076923076923078, fmeasure=0.06818181818181819), Score(precision=0.08196721311475409, recall=0.3125, fmeasure=0.12987012987012986), Score(precision=0.02127659574468085, recall=0.3333333333333333, fmeasure=0.04), Score(precision=0.007462686567164179, recall=1.0, fmeasure=0.014814814814814815), Score(precision=0.017094017094017096, recall=1.0, fmeasure=0.033613445378151266), Score(precision=0.017241379310344827, recall=0.5, fmeasure=0.03333333333333333), Score(precision=0.03278688524590164, recall=0.18181818181818182, fmeasure=0.05555555555555556), Score(precision=0.012987012987012988, recall=0.5, fmeasure=0.025316455696202535), Score(precision=0.013513513513513514, recall=1.0, fmeasure=0.026666666666666665), Score(precision=0.0, recall=0.0, fmeasure=0.0), Score(precision=0.015384615384615385, recall=0.3333333333333333, fmeasure=0.029411764705882356), Score(precision=0.03278688524590164, recall=0.6666666666666666, fmeasure=0.0625), Score(precision=0.0, recall=0.0, fmeasure=0.0)]\n",
      "BERT Score: [{'precision': 0.628084123134613, 'recall': 0.9260426759719849, 'f1': 0.7485009431838989}, {'precision': 0.3082299530506134, 'recall': 0.41509541869163513, 'f1': 0.3537684381008148}, {'precision': 0.49060890078544617, 'recall': 0.9254083037376404, 'f1': 0.6412543058395386}, {'precision': 0.40881314873695374, 'recall': 0.5037242770195007, 'f1': 0.4513329267501831}, {'precision': 0.4112642705440521, 'recall': 0.5937058925628662, 'f1': 0.4859248995780945}, {'precision': 0.6430384516716003, 'recall': 0.9223918318748474, 'f1': 0.7577896118164062}, {'precision': 0.24581335484981537, 'recall': 0.7639291286468506, 'f1': 0.3719443082809448}, {'precision': 0.22362706065177917, 'recall': 0.38016602396965027, 'f1': 0.28160443902015686}, {'precision': 0.37293457984924316, 'recall': 0.5081281661987305, 'f1': 0.4301590621471405}, {'precision': 0.359102338552475, 'recall': 0.5626583099365234, 'f1': 0.43840426206588745}, {'precision': 0.3787519335746765, 'recall': 0.5679526925086975, 'f1': 0.4544462263584137}, {'precision': 0.40896934270858765, 'recall': 0.577186107635498, 'f1': 0.4787306487560272}, {'precision': 0.34332966804504395, 'recall': 0.5930762887001038, 'f1': 0.434898316860199}, {'precision': 0.4584957957267761, 'recall': 0.5604000687599182, 'f1': 0.5043519735336304}, {'precision': 0.35307416319847107, 'recall': 0.4709947109222412, 'f1': 0.40359747409820557}, {'precision': 0.42127951979637146, 'recall': 0.5704805850982666, 'f1': 0.48465707898139954}, {'precision': 0.21964912116527557, 'recall': 0.32670676708221436, 'f1': 0.2626890540122986}, {'precision': 0.20438285171985626, 'recall': 0.45484858751296997, 'f1': 0.282035231590271}, {'precision': 0.21765819191932678, 'recall': 0.47056645154953003, 'f1': 0.2976430356502533}, {'precision': 0.25406697392463684, 'recall': 0.406333327293396, 'f1': 0.31264638900756836}, {'precision': 0.3517628610134125, 'recall': 0.4396095871925354, 'f1': 0.390810489654541}, {'precision': 0.23692017793655396, 'recall': 0.4088119864463806, 'f1': 0.2999875843524933}, {'precision': 0.19737175107002258, 'recall': 0.41060495376586914, 'f1': 0.26659515500068665}, {'precision': 0.12204892188310623, 'recall': 0.4631214737892151, 'f1': 0.19318638741970062}, {'precision': 0.2452375590801239, 'recall': 0.36156344413757324, 'f1': 0.29225045442581177}, {'precision': 0.27490511536598206, 'recall': 0.6073035001754761, 'f1': 0.3784838318824768}, {'precision': 0.21740439534187317, 'recall': 0.3404896855354309, 'f1': 0.265369176864624}]\n",
      "Metrics for RAG + LLM with Context Chunks:\n",
      "Semantic Similarities: [0.22858165204524994, 0.5312032103538513, 0.8446468114852905, 0.12947219610214233, 0.25789573788642883, 0.6966315507888794, 0.8497947454452515, 0.4179794192314148, 0.0911518856883049, 0.10905035585165024, 0.22491921484470367, 0.612054169178009, 0.4043503701686859, 0.4586479067802429, 0.13788816332817078, 0.45344460010528564, 0.2964898347854614, 1.0000001192092896, 0.34692680835723877, 0.26801806688308716, 0.1599406599998474, 0.26246553659439087, 0.7258844971656799, 0.27615800499916077, 0.17086637020111084, 0.3008238673210144, 0.30945563316345215]\n",
      "ROUGE-L Score: [Score(precision=0.6666666666666666, recall=0.10526315789473684, fmeasure=0.18181818181818182), Score(precision=0.3333333333333333, recall=0.125, fmeasure=0.18181818181818182), Score(precision=1.0, recall=0.9473684210526315, fmeasure=0.972972972972973), Score(precision=0.2857142857142857, recall=0.06451612903225806, fmeasure=0.10526315789473685), Score(precision=0.25, recall=0.1111111111111111, fmeasure=0.15384615384615383), Score(precision=1.0, recall=0.09090909090909091, fmeasure=0.16666666666666669), Score(precision=1.0, recall=0.6666666666666666, fmeasure=0.8), Score(precision=0.0, recall=0.0, fmeasure=0.0), Score(precision=0.1111111111111111, recall=0.07692307692307693, fmeasure=0.09090909090909093), Score(precision=0.0, recall=0.0, fmeasure=0.0), Score(precision=0.1, recall=0.07142857142857142, fmeasure=0.08333333333333333), Score(precision=1.0, recall=0.07692307692307693, fmeasure=0.14285714285714288), Score(precision=1.0, recall=0.2, fmeasure=0.33333333333333337), Score(precision=0.5, recall=0.25, fmeasure=0.3333333333333333), Score(precision=0.0, recall=0.0, fmeasure=0.0), Score(precision=0.10526315789473684, recall=0.125, fmeasure=0.11428571428571428), Score(precision=0.0, recall=0.0, fmeasure=0.0), Score(precision=1.0, recall=1.0, fmeasure=1.0), Score(precision=0.0, recall=0.0, fmeasure=0.0), Score(precision=0.5, recall=0.5, fmeasure=0.5), Score(precision=0.2, recall=0.18181818181818182, fmeasure=0.1904761904761905), Score(precision=0.25, recall=0.5, fmeasure=0.3333333333333333), Score(precision=0.3333333333333333, recall=1.0, fmeasure=0.5), Score(precision=0.0, recall=0.0, fmeasure=0.0), Score(precision=0.0, recall=0.0, fmeasure=0.0), Score(precision=0.0, recall=0.0, fmeasure=0.0), Score(precision=0.0, recall=0.0, fmeasure=0.0)]\n",
      "BERT Score: [{'precision': 0.5110135674476624, 'recall': 0.29868996143341064, 'f1': 0.37701359391212463}, {'precision': 0.5531371235847473, 'recall': 0.35411688685417175, 'f1': 0.43179792165756226}, {'precision': 0.9644137620925903, 'recall': 0.9046501517295837, 'f1': 0.9335764646530151}, {'precision': 0.3679996132850647, 'recall': 0.3351622521877289, 'f1': 0.35081419348716736}, {'precision': 0.36545348167419434, 'recall': 0.33830633759498596, 'f1': 0.3513563275337219}, {'precision': 0.829635739326477, 'recall': 0.45099538564682007, 'f1': 0.5843398571014404}, {'precision': 0.9528719782829285, 'recall': 0.7582412958145142, 'f1': 0.8444875478744507}, {'precision': 0.5823419094085693, 'recall': 0.5111654996871948, 'f1': 0.5444372892379761}, {'precision': 0.27499255537986755, 'recall': 0.2650316655635834, 'f1': 0.2699202597141266}, {'precision': 0.3288191854953766, 'recall': 0.3171573281288147, 'f1': 0.3228829801082611}, {'precision': 0.3640021085739136, 'recall': 0.34703534841537476, 'f1': 0.35531631112098694}, {'precision': 0.7724482417106628, 'recall': 0.3669801950454712, 'f1': 0.49757087230682373}, {'precision': 0.35874125361442566, 'recall': 0.22184817492961884, 'f1': 0.27415621280670166}, {'precision': 0.49709466099739075, 'recall': 0.3811149597167969, 'f1': 0.43144646286964417}, {'precision': 0.3518042266368866, 'recall': 0.29372531175613403, 'f1': 0.32015207409858704}, {'precision': 0.48526546359062195, 'recall': 0.499278724193573, 'f1': 0.49217236042022705}, {'precision': 0.5628266930580139, 'recall': 0.3825419247150421, 'f1': 0.45549386739730835}, {'precision': 0.9999999403953552, 'recall': 0.9999999403953552, 'f1': 0.9999999403953552}, {'precision': 0.6280486583709717, 'recall': 0.6280486583709717, 'f1': 0.6280486583709717}, {'precision': 0.7123592495918274, 'recall': 0.7123592495918274, 'f1': 0.7123592495918274}, {'precision': 0.385446697473526, 'recall': 0.36998727917671204, 'f1': 0.37755879759788513}, {'precision': 0.41893887519836426, 'recall': 0.5366364121437073, 'f1': 0.47053930163383484}, {'precision': 0.4843863248825073, 'recall': 0.7343431711196899, 'f1': 0.5837321281433105}, {'precision': 0.3660827577114105, 'recall': 0.4779651165008545, 'f1': 0.4146086573600769}, {'precision': 0.37273532152175903, 'recall': 0.34757858514785767, 'f1': 0.3597176671028137}, {'precision': 0.30383333563804626, 'recall': 0.37960559129714966, 'f1': 0.3375190794467926}, {'precision': 0.5388018488883972, 'recall': 0.31263166666030884, 'f1': 0.39567744731903076}]\n"
     ]
    }
   ],
   "source": [
    "#Evaluate the metrics\n",
    "semantic_model = SentenceTransformer('all-MiniLM-L6-v2')\n",
    "semantic_similarities = []\n",
    "\n",
    "\n",
    "def semantic_similarity_score(reference, generated, model):\n",
    "    \"\"\"\n",
    "    Objective: measure semantic similarity\n",
    "    Input: model, reference answers and the generated answers(rag/llm)\n",
    "    Output: semantic score (float)\"\"\"\n",
    "    ref_embedding = model.encode(reference, convert_to_tensor=True)\n",
    "    gen_embedding = model.encode(generated, convert_to_tensor=True)\n",
    "    return util.pytorch_cos_sim(ref_embedding, gen_embedding).item()\n",
    "\n",
    "def calculate_bert_score(reference, generated):\n",
    "    \"\"\"\n",
    "    Objective: measure bert score\n",
    "    Input: reference answers and the generated answers(rag/llm)\n",
    "    Output: Dictionary containing precision, recall and f1 score in float\"\"\"\n",
    "    scorer = BERTScorer(model_type='bert-base-uncased')\n",
    "    P, R, F1 = scorer.score([generated], [reference])\n",
    "    return {\n",
    "        \"precision\": P.mean().item(),\n",
    "        \"recall\": R.mean().item(),\n",
    "        \"f1\": F1.mean().item()\n",
    "    }\n",
    "\n",
    "def evaluate_metrics(questions, reference_answers, generated_answers, topic):\n",
    "    \"\"\"\n",
    "    Objective: Evaluate/Measure all Semantic, Bert and Rouge-l score\n",
    "    Input: questions, reference answers and the generated answers and topic(rag/llm)\n",
    "    Output: bert_scores, rouge_l_scores, semantic_similarities score (type: lists)\"\"\"\n",
    "    \n",
    "    bert_scores = []\n",
    "    rouge_l_scores = []\n",
    "    semantic_similarities = []\n",
    "    # Iterating through each question-answer pair to calculate metrics\n",
    "    for question, reference, generated in zip(questions, reference_answers, generated_answers):\n",
    "\n",
    "        # Semantic Similarity\n",
    "        similarity = semantic_similarity_score(reference, generated, semantic_model)\n",
    "        semantic_similarities.append(similarity)\n",
    "\n",
    "        #rouge_l_score\n",
    "        scorer = rouge_scorer.RougeScorer(['rougeL'], use_stemmer=True)\n",
    "        l_score = scorer.score(reference, generated)['rougeL']\n",
    "        rouge_l_scores.append(l_score)\n",
    "\n",
    "        #bert_score\n",
    "        score = calculate_bert_score(reference, generated)\n",
    "        bert_scores.append(score)\n",
    "\n",
    "    if topic == \"rag\":\n",
    "      print(\"Metrics for RAG:\")\n",
    "\n",
    "    else:\n",
    "      print(\"Metrics for RAG + LLM with Context Chunks:\")\n",
    "\n",
    "    print(\"Semantic Similarities:\", semantic_similarities)\n",
    "    print(\"ROUGE-L Score:\", rouge_l_scores)\n",
    "    print(\"BERT Score:\", bert_scores)\n",
    "\n",
    "    return semantic_similarities, rouge_l_scores, bert_scores\n",
    "\n",
    "semantic_similarities_rag, rouge_l_score_rag, bert_score_rag = evaluate_metrics(questions, reference_answers, retrieve_answers_rag, topic=\"rag\")\n",
    "semantic_similarities_llm, rouge_l_score_llm, bert_score_llm = evaluate_metrics(questions, reference_answers, retrieve_answers_llm, topic=\"llm_context\")\n"
   ]
  },
  {
   "cell_type": "code",
   "execution_count": null,
   "metadata": {
    "colab": {
     "base_uri": "https://localhost:8080/"
    },
    "id": "6LHzzPn9OEJ7",
    "outputId": "0641a5df-a6e0-42f5-def1-0df8723f4ae3"
   },
   "outputs": [
    {
     "name": "stdout",
     "output_type": "stream",
     "text": [
      "  Method Semantic Similarity ROUGE-L F1 Score BERT Precision     BERT Recall  \\\n",
      "0    RAG     0.9294 | 0.1034       0.56 | 0.0  0.643 | 0.122  0.926 | 0.3267   \n",
      "1    LLM        1.0 | 0.0912        1.0 | 0.0    1.0 | 0.275    1.0 | 0.2218   \n",
      "\n",
      "     BERT F1 Score  \n",
      "0  0.7578 | 0.1932  \n",
      "1     1.0 | 0.2699  \n"
     ]
    }
   ],
   "source": [
    "def semantic_values(semantic_similarities):\n",
    "    \"\"\"\n",
    "    Objective: Calculate Max and Min semantic score for analysis\"\"\"  \n",
    "    max_semantic_similarity = round(max(semantic_similarities),4)\n",
    "    min_semantic_similarity = round(min(semantic_similarities),4)\n",
    "    return max_semantic_similarity, min_semantic_similarity\n",
    "\n",
    "max_semantic_similarity_rag, min_semantic_similarity_rag  = semantic_values(semantic_similarities_rag)\n",
    "max_semantic_similarity_llm, min_semantic_similarity_llm  = semantic_values(semantic_similarities_llm)\n",
    "\n",
    "def rouge_l_f1_score(rouge_l_score):\n",
    "    \"\"\"\n",
    "    Objective: Calculate Max and Min f score from rouge-l-score for analysis\"\"\"\n",
    "    max_rouge_l_f1 = round(max([score.fmeasure for score in rouge_l_score]),4)\n",
    "    min_rouge_l_f1 = round(min([score.fmeasure for score in rouge_l_score]),4)\n",
    "    return max_rouge_l_f1, min_rouge_l_f1\n",
    "\n",
    "max_rouge_l_f1_rag, min_rouge_l_f1_rag = rouge_l_f1_score(rouge_l_score_rag)\n",
    "max_rouge_l_f1_llm, min_rouge_l_f1_llm = rouge_l_f1_score(rouge_l_score_llm)\n",
    "\n",
    "def bert_precision_score(bert_scores):\n",
    "    \"\"\"\n",
    "    Objective: Calculate Max and Min precision score from bert-score for analysis\"\"\"\n",
    "    max_precision = round(max([score['precision'] for score in bert_scores]),4)\n",
    "    min_precision = round(min([score['precision'] for score in bert_scores]),4)\n",
    "    return max_precision, min_precision\n",
    "\n",
    "max_bert_precision_rag, min_bert_precision_rag = bert_precision_score(bert_score_rag)\n",
    "max_bert_precision_llm, min_bert_precision_llm = bert_precision_score(bert_score_llm)\n",
    "\n",
    "def bert_recall_score(bert_scores):\n",
    "    \"\"\"\n",
    "    Objective: Calculate Max and Min recall score from bert-score for analysis\"\"\"\n",
    "    max_recall = round(max([score['recall'] for score in bert_scores]),4)\n",
    "    min_recall = round(min([score['recall'] for score in bert_scores]),4)\n",
    "    return max_recall, min_recall\n",
    "\n",
    "max_bert_recall_rag, min_bert_recall_rag = bert_recall_score(bert_score_rag)\n",
    "max_bert_recall_llm, min_bert_recall_llm = bert_recall_score(bert_score_llm)\n",
    "\n",
    "def bert_f1_score(bert_scores):\n",
    "    \"\"\"\n",
    "    Objective: Calculate Max and Min f1 score from bert-score for analysis\"\"\"\n",
    "    max_f1 = round(max([score['f1'] for score in bert_scores]),4)\n",
    "    min_f1 = round(min([score['f1'] for score in bert_scores]),4)\n",
    "    return max_f1, min_f1\n",
    "\n",
    "max_bert_f1_rag, min_bert_f1_rag = bert_f1_score(bert_score_rag)\n",
    "max_bert_f1_llm, min_bert_f1_llm = bert_f1_score(bert_score_llm)\n",
    "\n",
    "data = {\n",
    "    \"Method\": [\"RAG\", \"LLM\"],\n",
    "    \"Semantic Similarity\": [f\"{max_semantic_similarity_rag} | {min_semantic_similarity_rag}\",\n",
    "                            f\"{max_semantic_similarity_llm} | {min_semantic_similarity_llm}\"],\n",
    "    \"ROUGE-L F1 Score\": [f\"{max_rouge_l_f1_rag} | {min_rouge_l_f1_rag}\",\n",
    "                         f\"{max_rouge_l_f1_llm} | {min_rouge_l_f1_llm}\"],\n",
    "    \"BERT Precision\": [f\"{max_bert_precision_rag} | {min_bert_precision_rag}\",\n",
    "                      f\"{max_bert_precision_llm} | {min_bert_precision_llm}\"],\n",
    "    \"BERT Recall\": [f\"{max_bert_recall_rag} | {min_bert_recall_rag}\",\n",
    "                    f\"{max_bert_recall_llm} | {min_bert_recall_llm}\"],\n",
    "    \"BERT F1 Score\": [f\"{max_bert_f1_rag} | {min_bert_f1_rag}\",\n",
    "                      f\"{max_bert_f1_llm} | {min_bert_f1_llm}\"],\n",
    "}\n",
    "\n",
    "metrics_df = pd.DataFrame(data)\n",
    "print(metrics_df)\n",
    "metrics_df.to_csv(\"results/evaluation_metrics.csv\", index=False)"
   ]
  },
  {
   "cell_type": "markdown",
   "metadata": {
    "id": "yqrUGK_liQZa"
   },
   "source": [
    "###Interpretations"
   ]
  },
  {
   "cell_type": "code",
   "execution_count": null,
   "metadata": {
    "colab": {
     "base_uri": "https://localhost:8080/"
    },
    "id": "PVJP1IucqrMa",
    "outputId": "860aefdf-dde9-42a5-d3bc-6e3449c5b540"
   },
   "outputs": [
    {
     "name": "stdout",
     "output_type": "stream",
     "text": [
      "CSV file 'rag_results.csv' created successfully.\n",
      "CSV file 'llm_results.csv' created successfully.\n"
     ]
    }
   ],
   "source": [
    "#Data Prep for Human Evaluation\n",
    "#Compare the reference answers and generated answer and label them\n",
    "#Check for wrong answers and check if there are any patterns.\n",
    "#analyse and suggestions for improvements.\n",
    "\n",
    "\n",
    "# Create the first CSV file for RAG results\n",
    "with open('results/rag_results.csv', mode='w', newline='', encoding='utf-8') as file:\n",
    "    writer = csv.writer(file)\n",
    "    writer.writerow(['Question', 'Reference Answer', 'RAG Answer'])\n",
    "    for question, ref_answer, rag_answer in zip(questions, reference_answers, retrieve_answers_rag):\n",
    "        writer.writerow([question, ref_answer, rag_answer])\n",
    "\n",
    "\n",
    "# Create the second CSV file for LLM results\n",
    "with open('results/llm_results.csv', mode='w', newline='', encoding='utf-8') as file:\n",
    "    writer = csv.writer(file)\n",
    "    writer.writerow(['Question', 'Reference Answer', 'LLM Answer'])\n",
    "    for question, ref_answer, llm_answer in zip(questions, reference_answers, retrieve_answers_llm):\n",
    "        writer.writerow([question, ref_answer, llm_answer])\n"
   ]
  },
  {
   "cell_type": "markdown",
   "metadata": {
    "id": "jLDhEj3lrLY4"
   },
   "source": [
    "## Error Analysis"
   ]
  },
  {
   "cell_type": "code",
   "execution_count": null,
   "metadata": {
    "colab": {
     "base_uri": "https://localhost:8080/"
    },
    "id": "v0x2SJ0ugY_H",
    "outputId": "9f9ae678-0d6d-4df6-b268-afde0120dbc2"
   },
   "outputs": [
    {
     "name": "stdout",
     "output_type": "stream",
     "text": [
      "Results saved to 'bert_bootstrap_results.csv'\n",
      "Results saved to 'bert_bootstrap_results.csv'\n"
     ]
    }
   ],
   "source": [
    "#Inferential Statistics -Bootstrap Sampling\n",
    "\n",
    "def bootstrap_sampling_bert_score(bert_scores, num_samples=1000, seed=42):\n",
    "    np.random.seed(seed)\n",
    "\n",
    "    precision_scores = []\n",
    "    recall_scores = []\n",
    "    f1_scores = []\n",
    "\n",
    "    num_examples = len(bert_scores)\n",
    "\n",
    "    # Calculate BERTScore for bootstrap samples\n",
    "    for _ in range(num_samples):\n",
    "        indices = np.random.choice(range(num_examples), size=num_examples, replace=True)\n",
    "        sampled_precision = [bert_scores[i][\"precision\"] for i in indices]\n",
    "        sampled_recall = [bert_scores[i][\"recall\"] for i in indices]\n",
    "        sampled_f1 = [bert_scores[i][\"f1\"] for i in indices]\n",
    "\n",
    "        precision_scores.append(np.mean(sampled_precision))\n",
    "        recall_scores.append(np.mean(sampled_recall))\n",
    "        f1_scores.append(np.mean(sampled_f1))\n",
    "\n",
    "    # Calculate confidence intervals (e.g., 95%)\n",
    "    lower_percentile = 2.5\n",
    "    upper_percentile = 97.5\n",
    "\n",
    "    precision_conf_int = (np.percentile(precision_scores, lower_percentile), np.percentile(precision_scores, upper_percentile))\n",
    "    recall_conf_int = (np.percentile(recall_scores, lower_percentile), np.percentile(recall_scores, upper_percentile))\n",
    "    f1_conf_int = (np.percentile(f1_scores, lower_percentile), np.percentile(f1_scores, upper_percentile))\n",
    "\n",
    "    # Create a DataFrame to save results\n",
    "    results_df = pd.DataFrame({\n",
    "        'Metric': ['Precision', 'Recall', 'F1 Score'],\n",
    "        'Mean Score': [np.mean(precision_scores), np.mean(recall_scores), np.mean(f1_scores)],\n",
    "        'Confidence Interval Lower': [precision_conf_int[0], recall_conf_int[0], f1_conf_int[0]],\n",
    "        'Confidence Interval Upper': [precision_conf_int[1], recall_conf_int[1], f1_conf_int[1]],\n",
    "    })\n",
    "\n",
    "    # Save to CSV\n",
    "    results_df.to_csv('results/bert_bootstrap_results.csv', index=False)\n",
    "    return precision_scores, recall_scores, f1_scores, precision_conf_int, recall_conf_int, f1_conf_int\n",
    "\n",
    "precision_scores_rag, recall_scores_rag, f1_scores_rag, precision_conf_int_rag, recall_conf_int_rag, f1_conf_int_rag = bootstrap_sampling_bert_score(bert_score_rag)\n",
    "\n",
    "precision_scores_llm, recall_scores_llm, f1_scores_llm, precision_conf_int_llm, recall_conf_int_llm, f1_conf_int_llm = bootstrap_sampling_bert_score(bert_score_llm)\n",
    "\n"
   ]
  }
 ],
 "metadata": {
  "colab": {
   "provenance": []
  },
  "kernelspec": {
   "display_name": "Python 3",
   "name": "python3"
  },
  "language_info": {
   "name": "python",
   "version": "3.12.6"
  }
 },
 "nbformat": 4,
 "nbformat_minor": 0
}
